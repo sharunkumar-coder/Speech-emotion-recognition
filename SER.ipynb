{
  "nbformat": 4,
  "nbformat_minor": 0,
  "metadata": {
    "colab": {
      "name": "SER.ipynb",
      "provenance": [],
      "collapsed_sections": []
    },
    "kernelspec": {
      "name": "python3",
      "display_name": "Python 3"
    },
    "language_info": {
      "name": "python"
    }
  },
  "cells": [
    {
      "cell_type": "code",
      "metadata": {
        "colab": {
          "base_uri": "https://localhost:8080/"
        },
        "id": "_3Pham0tAL6h",
        "outputId": "6aa70bb7-d290-4009-d113-3ff4664828a2"
      },
      "source": [
        "from google.colab import drive\n",
        "drive.mount('/content/drive/')"
      ],
      "execution_count": null,
      "outputs": [
        {
          "output_type": "stream",
          "text": [
            "Drive already mounted at /content/drive/; to attempt to forcibly remount, call drive.mount(\"/content/drive/\", force_remount=True).\n"
          ],
          "name": "stdout"
        }
      ]
    },
    {
      "cell_type": "code",
      "metadata": {
        "id": "xTPEfGCxAwj5"
      },
      "source": [
        "!pip install librosa"
      ],
      "execution_count": null,
      "outputs": []
    },
    {
      "cell_type": "markdown",
      "metadata": {
        "id": "r2XTSk-L_Zvh"
      },
      "source": [
        "Load the data"
      ]
    },
    {
      "cell_type": "code",
      "metadata": {
        "colab": {
          "base_uri": "https://localhost:8080/"
        },
        "id": "orQTpO8H2vMf",
        "outputId": "1e9f1573-19c0-4f41-8128-f63c55e3344d"
      },
      "source": [
        "import librosa\n",
        "import time\n",
        "import os\n",
        "path = '/content/drive/MyDrive/DATA SET/'\n",
        "lst = []\n",
        "\n",
        "start_time = time.time()\n",
        "\n",
        "for subdir, dirs, files in os.walk(path):\n",
        "  for file in files:\n",
        "      try:\n",
        "        #Load librosa array, obtain mfcss, store the file and the mcss information in a new array\n",
        "        X, sample_rate = librosa.load(os.path.join(subdir,file), res_type='kaiser_fast')\n",
        "        mfccs = np.mean(librosa.feature.mfcc(y=X, sr=sample_rate, n_mfcc=40).T,axis=0) \n",
        "        # The instruction below converts the labels (from 1 to 8) to a series from 0 to 7\n",
        "        # This is because our predictor needs to start from 0 otherwise it will try to predict also 0.\n",
        "        file = int(file[7:8]) - 1 \n",
        "        arr = mfccs, file\n",
        "        lst.append(arr)\n",
        "      # If the file is not valid, skip it\n",
        "      except ValueError:\n",
        "        continue\n",
        "\n",
        "print(\"--- Data loaded. Loading time: %s seconds ---\" % (time.time() - start_time))"
      ],
      "execution_count": null,
      "outputs": [
        {
          "output_type": "stream",
          "text": [
            "--- Data loaded. Loading time: 1951.8793835639954 seconds ---\n"
          ],
          "name": "stdout"
        }
      ]
    },
    {
      "cell_type": "code",
      "metadata": {
        "id": "7Biy147u7tJT"
      },
      "source": [
        "# Creating X and y: zip makes a list of all the first elements, and a list of all the second elements.\n",
        "X, y = zip(*lst)"
      ],
      "execution_count": null,
      "outputs": []
    },
    {
      "cell_type": "code",
      "metadata": {
        "colab": {
          "base_uri": "https://localhost:8080/"
        },
        "id": "2ipeTqmY7yNY",
        "outputId": "40078b16-b296-4618-d87b-78653c62ce2c"
      },
      "source": [
        "import numpy as np\n",
        "X = np.asarray(X) #asarray is used to convert my input into array\n",
        "y = np.asarray(y)\n",
        "\n",
        "\n",
        "X.shape, y.shape"
      ],
      "execution_count": null,
      "outputs": [
        {
          "output_type": "execute_result",
          "data": {
            "text/plain": [
              "((3075, 40), (3075,))"
            ]
          },
          "metadata": {
            "tags": []
          },
          "execution_count": 9
        }
      ]
    },
    {
      "cell_type": "code",
      "metadata": {
        "id": "70RKaG6I7_Kg"
      },
      "source": [
        "# Saving joblib files to not load them again with the loop above\n",
        "\n",
        "import joblib\n",
        "\n",
        "X_name = 'X.joblib'\n",
        "y_name = 'y.joblib'\n",
        "save_dir = '/content/drive/MyDrive/DATA SET/'\n",
        "\n",
        "savedX = joblib.dump(X, os.path.join(save_dir, X_name))\n",
        "savedy = joblib.dump(y, os.path.join(save_dir, y_name))"
      ],
      "execution_count": null,
      "outputs": []
    },
    {
      "cell_type": "code",
      "metadata": {
        "id": "CktAHFhh8Uxx"
      },
      "source": [
        "# Loading saved models\n",
        "import joblib\n",
        "X = joblib.load('/content/drive/MyDrive/DATA SET/X.joblib')\n",
        "y = joblib.load('/content/drive/MyDrive/DATA SET/y.joblib')"
      ],
      "execution_count": null,
      "outputs": []
    },
    {
      "cell_type": "code",
      "metadata": {
        "id": "L0ZQnqY18n6f"
      },
      "source": [
        "from sklearn.model_selection import train_test_split\n",
        "\n",
        "X_train, X_test, y_train, y_test = train_test_split(X,y, test_size=0.33, random_state=42)"
      ],
      "execution_count": null,
      "outputs": []
    },
    {
      "cell_type": "code",
      "metadata": {
        "colab": {
          "base_uri": "https://localhost:8080/"
        },
        "id": "Jft3qyjtxVAx",
        "outputId": "69936593-67c2-467b-86a8-ebef46822bfa"
      },
      "source": [
        "X_train.shape"
      ],
      "execution_count": null,
      "outputs": [
        {
          "output_type": "execute_result",
          "data": {
            "text/plain": [
              "(2060, 40)"
            ]
          },
          "metadata": {
            "tags": []
          },
          "execution_count": 207
        }
      ]
    },
    {
      "cell_type": "markdown",
      "metadata": {
        "id": "lg7nMIfgvX6Z"
      },
      "source": [
        "# MLP Classifier"
      ]
    },
    {
      "cell_type": "code",
      "metadata": {
        "id": "-xi8SoV8HQnz"
      },
      "source": [
        "\n",
        "#import soundfile\n",
        "import os\n",
        "import numpy as np\n",
        "from sklearn.model_selection import train_test_split\n",
        "from sklearn.neural_network import MLPClassifier\n",
        "from sklearn.metrics import accuracy_score"
      ],
      "execution_count": null,
      "outputs": []
    },
    {
      "cell_type": "code",
      "metadata": {
        "id": "m8RpzO8wLG4k"
      },
      "source": [
        "X_train, X_test, y_train, y_test=train_test_split(X, y, test_size=0.20, train_size= 0.75,random_state=9)"
      ],
      "execution_count": null,
      "outputs": []
    },
    {
      "cell_type": "markdown",
      "metadata": {
        "id": "HAeFoYW6V5IB"
      },
      "source": [
        "Initialize MLP Classifier"
      ]
    },
    {
      "cell_type": "code",
      "metadata": {
        "id": "jdAZ9Z3YvcgX"
      },
      "source": [
        "model=MLPClassifier(alpha=0.01, batch_size=256, epsilon=1e-08, hidden_layer_sizes=(300,), learning_rate='adaptive', max_iter=500)"
      ],
      "execution_count": null,
      "outputs": []
    },
    {
      "cell_type": "markdown",
      "metadata": {
        "id": "BlNJjvUqWStj"
      },
      "source": [
        "Train the model"
      ]
    },
    {
      "cell_type": "code",
      "metadata": {
        "colab": {
          "base_uri": "https://localhost:8080/"
        },
        "id": "eeAAxgsNHUaa",
        "outputId": "daebdeed-186b-4e08-b8be-1146017013ca"
      },
      "source": [
        "model.fit(X_train,y_train)"
      ],
      "execution_count": null,
      "outputs": [
        {
          "output_type": "execute_result",
          "data": {
            "text/plain": [
              "MLPClassifier(activation='relu', alpha=0.01, batch_size=256, beta_1=0.9,\n",
              "              beta_2=0.999, early_stopping=False, epsilon=1e-08,\n",
              "              hidden_layer_sizes=(300,), learning_rate='adaptive',\n",
              "              learning_rate_init=0.001, max_fun=15000, max_iter=500,\n",
              "              momentum=0.9, n_iter_no_change=10, nesterovs_momentum=True,\n",
              "              power_t=0.5, random_state=None, shuffle=True, solver='adam',\n",
              "              tol=0.0001, validation_fraction=0.1, verbose=False,\n",
              "              warm_start=False)"
            ]
          },
          "metadata": {
            "tags": []
          },
          "execution_count": 198
        }
      ]
    },
    {
      "cell_type": "markdown",
      "metadata": {
        "id": "Dn-9Sm5vWwaB"
      },
      "source": [
        "Predict the accuracy of our model"
      ]
    },
    {
      "cell_type": "code",
      "metadata": {
        "id": "rI2RBWPLHj70"
      },
      "source": [
        "y_pred=model.predict(X_test)"
      ],
      "execution_count": null,
      "outputs": []
    },
    {
      "cell_type": "code",
      "metadata": {
        "colab": {
          "base_uri": "https://localhost:8080/"
        },
        "id": "ieYkl6DMHtbu",
        "outputId": "5fae7059-286d-4c33-ebe5-e9c4df362cea"
      },
      "source": [
        "from sklearn.metrics import classification_report\n",
        "print(classification_report(y_test,y_pred))"
      ],
      "execution_count": null,
      "outputs": [
        {
          "output_type": "stream",
          "text": [
            "              precision    recall  f1-score   support\n",
            "\n",
            "           0       0.67      0.40      0.50         5\n",
            "           1       1.00      0.82      0.90        11\n",
            "           2       0.92      0.63      0.75        19\n",
            "           3       0.60      0.90      0.72        10\n",
            "           4       0.59      0.91      0.71        11\n",
            "           5       0.78      0.70      0.74        10\n",
            "           6       0.62      0.42      0.50        12\n",
            "           7       0.79      1.00      0.88        15\n",
            "\n",
            "    accuracy                           0.74        93\n",
            "   macro avg       0.75      0.72      0.71        93\n",
            "weighted avg       0.77      0.74      0.73        93\n",
            "\n"
          ],
          "name": "stdout"
        }
      ]
    },
    {
      "cell_type": "code",
      "metadata": {
        "colab": {
          "base_uri": "https://localhost:8080/"
        },
        "id": "UqjDDTNVJmKD",
        "outputId": "6cae421f-6dc2-42f4-d7f1-b91f9f897708"
      },
      "source": [
        "# Calculate the accuracy of our model\n",
        "accuracy=accuracy_score(y_true=y_test, y_pred=y_pred)\n",
        "# Print the accuracy\n",
        "print(\"Accuracy: {:.2f}%\".format(accuracy*100))"
      ],
      "execution_count": null,
      "outputs": [
        {
          "output_type": "stream",
          "text": [
            "Accuracy: 74.19%\n"
          ],
          "name": "stdout"
        }
      ]
    },
    {
      "cell_type": "markdown",
      "metadata": {
        "id": "Ty0TyKPdpOhi"
      },
      "source": [
        "# SVM Classifier"
      ]
    },
    {
      "cell_type": "code",
      "metadata": {
        "id": "LnywtJmNphog"
      },
      "source": [
        "import pandas as pd\n",
        "import numpy as np\n",
        "import matplotlib.pyplot as plt\n",
        "%matplotlib inline"
      ],
      "execution_count": null,
      "outputs": []
    },
    {
      "cell_type": "code",
      "metadata": {
        "id": "jM2EUco_q6AA"
      },
      "source": [
        "from sklearn.svm import SVC\n",
        "\n",
        "svclassifier = SVC(kernel = 'linear')"
      ],
      "execution_count": null,
      "outputs": []
    },
    {
      "cell_type": "code",
      "metadata": {
        "colab": {
          "base_uri": "https://localhost:8080/"
        },
        "id": "XWeb3LwcyHTH",
        "outputId": "33574ee0-8ce7-4de2-a143-c719563bf9f3"
      },
      "source": [
        "from sklearn.model_selection import train_test_split\n",
        "from sklearn.preprocessing import StandardScaler\n",
        "from sklearn.pipeline import Pipeline\n",
        "from sklearn.svm import SVC\n",
        "\n",
        "\n",
        "#splitting dataset into train/ test sets\n",
        "X_train, X_test, y_train, y_test = train_test_split(X, y, test_size = 0.20)\n",
        "\n",
        "# Setup the pipeline steps: steps\n",
        "steps = [('scaler', StandardScaler()),\n",
        "        ('SVM', SVC())]\n",
        "        \n",
        "# Create the pipeline: pipeline\n",
        "pipeline = Pipeline(steps)\n",
        "\n",
        "# Fit the pipeline to the training set: svc_scaled\n",
        "svc_scaled = pipeline.fit(X_train, y_train)\n",
        "\n",
        "# Instantiate and fit a classifier to the unscaled data\n",
        "svc_unscaled = SVC(kernel = 'linear').fit(X_train, y_train)\n",
        "\n",
        "# Compute and print metrics\n",
        "print('Accuracy: {}'.format(svc_scaled.score(X_test, y_test)))\n",
        "#print('Accuracy without Scaling: {}'.format(svc_unscaled.score(X_test, y_test)))"
      ],
      "execution_count": null,
      "outputs": [
        {
          "output_type": "stream",
          "text": [
            "Accuracy: 0.816260162601626\n"
          ],
          "name": "stdout"
        }
      ]
    },
    {
      "cell_type": "code",
      "metadata": {
        "id": "sfmH_Jvg2wDr"
      },
      "source": [
        "scaled_predictions = svc_scaled.predict(X_test)"
      ],
      "execution_count": null,
      "outputs": []
    },
    {
      "cell_type": "code",
      "metadata": {
        "colab": {
          "base_uri": "https://localhost:8080/",
          "height": 543
        },
        "id": "-KoSQEvUz7xP",
        "outputId": "6ae5828e-fc2d-45ec-ac19-3d5c3e5e783e"
      },
      "source": [
        "from sklearn.metrics import classification_report, confusion_matrix,accuracy_score\n",
        "import seaborn as sn\n",
        "\n",
        "print(classification_report(y_test,scaled_predictions))\n",
        "\n",
        "acc = float(accuracy_score(y_test,scaled_predictions))*100\n",
        "print(\"----accuracy score %s ----\" % acc)\n",
        "\n",
        "cm = confusion_matrix(y_test,scaled_predictions)\n",
        "df_cm = pd.DataFrame(cm)\n",
        "sn.heatmap(df_cm, annot=True, fmt='')\n",
        "plt.show()"
      ],
      "execution_count": null,
      "outputs": [
        {
          "output_type": "stream",
          "text": [
            "              precision    recall  f1-score   support\n",
            "\n",
            "           0       0.74      0.57      0.64        46\n",
            "           1       0.77      0.93      0.84        92\n",
            "           2       0.85      0.82      0.83        83\n",
            "           3       0.81      0.71      0.76        72\n",
            "           4       0.90      0.87      0.88        79\n",
            "           5       0.80      0.82      0.81        82\n",
            "           6       0.85      0.82      0.84        80\n",
            "           7       0.80      0.85      0.83        81\n",
            "\n",
            "    accuracy                           0.82       615\n",
            "   macro avg       0.81      0.80      0.80       615\n",
            "weighted avg       0.82      0.82      0.81       615\n",
            "\n",
            "----accuracy score 81.6260162601626 ----\n"
          ],
          "name": "stdout"
        },
        {
          "output_type": "display_data",
          "data": {
            "image/png": "[encoded data removed]",
            "text/plain": [
              "<Figure size 432x288 with 2 Axes>"
            ]
          },
          "metadata": {
            "tags": [],
            "needs_background": "light"
          }
        }
      ]
    },
    {
      "cell_type": "markdown",
      "metadata": {
        "id": "QZBjwO2HjiYd"
      },
      "source": [
        "# CNN\n"
      ]
    },
    {
      "cell_type": "code",
      "metadata": {
        "id": "tbmQCjrm8fB-"
      },
      "source": [
        "import numpy as np\n",
        "x_traincnn = np.expand_dims(X_train, axis=2)\n",
        "x_testcnn = np.expand_dims(X_test, axis=2)"
      ],
      "execution_count": null,
      "outputs": []
    },
    {
      "cell_type": "code",
      "metadata": {
        "colab": {
          "base_uri": "https://localhost:8080/"
        },
        "id": "m9q7fqEW8t0D",
        "outputId": "b6cae991-c67b-4f6e-8411-1ca470c9ca3d"
      },
      "source": [
        "x_traincnn.shape, x_testcnn.shape"
      ],
      "execution_count": null,
      "outputs": [
        {
          "output_type": "execute_result",
          "data": {
            "text/plain": [
              "((2060, 40, 1), (1015, 40, 1))"
            ]
          },
          "metadata": {
            "tags": []
          },
          "execution_count": 209
        }
      ]
    },
    {
      "cell_type": "code",
      "metadata": {
        "colab": {
          "base_uri": "https://localhost:8080/"
        },
        "id": "NqNUtJho8xE4",
        "outputId": "c7cbdf88-76e7-4e46-f449-d639e7bc3599"
      },
      "source": [
        "import keras\n",
        "import numpy as np\n",
        "import matplotlib.pyplot as plt\n",
        "import tensorflow as tf\n",
        "import keras\n",
        "from keras.preprocessing import sequence\n",
        "from keras.models import Sequential\n",
        "from keras.layers import Dense, Embedding\n",
        "from keras.utils.np_utils import to_categorical\n",
        "from keras.layers import Input, Flatten, Dropout, Activation\n",
        "from keras.layers import Conv1D, MaxPooling1D\n",
        "from keras.models import Model\n",
        "from keras.callbacks import ModelCheckpoint\n",
        "\n",
        "model = Sequential()\n",
        "\n",
        "model.add(Conv1D(64, 5,padding='same',\n",
        "                 input_shape=(40,1)))\n",
        "model.add(Activation('relu'))\n",
        "model.add(Dropout(0.1))\n",
        "model.add(MaxPooling1D(pool_size=(4)))\n",
        "model.add(Conv1D(128, 5,padding='same',))\n",
        "model.add(Activation('relu'))\n",
        "model.add(Dropout(0.1))\n",
        "model.add(MaxPooling1D(pool_size=(4)))\n",
        "model.add(Conv1D(256, 5,padding='same',))\n",
        "model.add(Activation('relu'))\n",
        "model.add(Dropout(0.1))\n",
        "model.add(Flatten())\n",
        "model.add(Dense(8))\n",
        "model.add(Activation('softmax'))\n",
        "opt = keras.optimizers.RMSprop(lr=0.00005, rho=0.9, epsilon=1e-07, decay=0.0)"
      ],
      "execution_count": null,
      "outputs": [
        {
          "output_type": "stream",
          "text": [
            "/usr/local/lib/python3.7/dist-packages/tensorflow/python/keras/optimizer_v2/optimizer_v2.py:375: UserWarning: The `lr` argument is deprecated, use `learning_rate` instead.\n",
            "  \"The `lr` argument is deprecated, use `learning_rate` instead.\")\n"
          ],
          "name": "stderr"
        }
      ]
    },
    {
      "cell_type": "code",
      "metadata": {
        "colab": {
          "base_uri": "https://localhost:8080/"
        },
        "id": "A6TxOGOb9pt_",
        "outputId": "1e62f047-3989-4b4e-f5d9-dbc6643c4ac7"
      },
      "source": [
        "model.summary()"
      ],
      "execution_count": null,
      "outputs": [
        {
          "output_type": "stream",
          "text": [
            "Model: \"sequential_2\"\n",
            "_________________________________________________________________\n",
            "Layer (type)                 Output Shape              Param #   \n",
            "=================================================================\n",
            "conv1d_6 (Conv1D)            (None, 40, 64)            384       \n",
            "_________________________________________________________________\n",
            "activation_8 (Activation)    (None, 40, 64)            0         \n",
            "_________________________________________________________________\n",
            "dropout_6 (Dropout)          (None, 40, 64)            0         \n",
            "_________________________________________________________________\n",
            "max_pooling1d_4 (MaxPooling1 (None, 10, 64)            0         \n",
            "_________________________________________________________________\n",
            "conv1d_7 (Conv1D)            (None, 10, 128)           41088     \n",
            "_________________________________________________________________\n",
            "activation_9 (Activation)    (None, 10, 128)           0         \n",
            "_________________________________________________________________\n",
            "dropout_7 (Dropout)          (None, 10, 128)           0         \n",
            "_________________________________________________________________\n",
            "max_pooling1d_5 (MaxPooling1 (None, 2, 128)            0         \n",
            "_________________________________________________________________\n",
            "conv1d_8 (Conv1D)            (None, 2, 256)            164096    \n",
            "_________________________________________________________________\n",
            "activation_10 (Activation)   (None, 2, 256)            0         \n",
            "_________________________________________________________________\n",
            "dropout_8 (Dropout)          (None, 2, 256)            0         \n",
            "_________________________________________________________________\n",
            "flatten_2 (Flatten)          (None, 512)               0         \n",
            "_________________________________________________________________\n",
            "dense_2 (Dense)              (None, 8)                 4104      \n",
            "_________________________________________________________________\n",
            "activation_11 (Activation)   (None, 8)                 0         \n",
            "=================================================================\n",
            "Total params: 209,672\n",
            "Trainable params: 209,672\n",
            "Non-trainable params: 0\n",
            "_________________________________________________________________\n"
          ],
          "name": "stdout"
        }
      ]
    },
    {
      "cell_type": "code",
      "metadata": {
        "id": "5kEWL-kR-Udw"
      },
      "source": [
        "model.compile(loss='sparse_categorical_crossentropy',\n",
        "              optimizer=opt,\n",
        "              metrics=['accuracy'])"
      ],
      "execution_count": null,
      "outputs": []
    },
    {
      "cell_type": "code",
      "metadata": {
        "colab": {
          "base_uri": "https://localhost:8080/"
        },
        "id": "0PG0JHTM9_Ga",
        "outputId": "6fe02243-93a2-4e41-a022-dbdffbcbe929"
      },
      "source": [
        "\n",
        "cnnhistory=model.fit(x_traincnn, y_train, batch_size=18, epochs=500, validation_data=(x_testcnn, y_test))"
      ],
      "execution_count": null,
      "outputs": [
        {
          "output_type": "stream",
          "text": [
            "Epoch 1/500\n",
            "115/115 [==============================] - 19s 23ms/step - loss: 6.3909 - accuracy: 0.1278 - val_loss: 2.4456 - val_accuracy: 0.1291\n",
            "Epoch 2/500\n",
            "115/115 [==============================] - 2s 17ms/step - loss: 4.5838 - accuracy: 0.1421 - val_loss: 2.0704 - val_accuracy: 0.1635\n",
            "Epoch 3/500\n",
            "115/115 [==============================] - 2s 17ms/step - loss: 3.5449 - accuracy: 0.1612 - val_loss: 1.9764 - val_accuracy: 0.2315\n",
            "Epoch 4/500\n",
            "115/115 [==============================] - 2s 17ms/step - loss: 3.0539 - accuracy: 0.1822 - val_loss: 2.0286 - val_accuracy: 0.1872\n",
            "Epoch 5/500\n",
            "115/115 [==============================] - 2s 17ms/step - loss: 2.5716 - accuracy: 0.1783 - val_loss: 2.1717 - val_accuracy: 0.1340\n",
            "Epoch 6/500\n",
            "115/115 [==============================] - 2s 17ms/step - loss: 2.4236 - accuracy: 0.1957 - val_loss: 1.9388 - val_accuracy: 0.2177\n",
            "Epoch 7/500\n",
            "115/115 [==============================] - 2s 17ms/step - loss: 2.2877 - accuracy: 0.1842 - val_loss: 1.8895 - val_accuracy: 0.2660\n",
            "Epoch 8/500\n",
            "115/115 [==============================] - 2s 17ms/step - loss: 2.1715 - accuracy: 0.2188 - val_loss: 1.8945 - val_accuracy: 0.2286\n",
            "Epoch 9/500\n",
            "115/115 [==============================] - 2s 17ms/step - loss: 2.1112 - accuracy: 0.2265 - val_loss: 1.8752 - val_accuracy: 0.2729\n",
            "Epoch 10/500\n",
            "115/115 [==============================] - 2s 17ms/step - loss: 2.0546 - accuracy: 0.2321 - val_loss: 1.8581 - val_accuracy: 0.2778\n",
            "Epoch 11/500\n",
            "115/115 [==============================] - 2s 17ms/step - loss: 2.0042 - accuracy: 0.2420 - val_loss: 1.8873 - val_accuracy: 0.2601\n",
            "Epoch 12/500\n",
            "115/115 [==============================] - 2s 17ms/step - loss: 1.9917 - accuracy: 0.2316 - val_loss: 1.8494 - val_accuracy: 0.2365\n",
            "Epoch 13/500\n",
            "115/115 [==============================] - 2s 18ms/step - loss: 1.9517 - accuracy: 0.2583 - val_loss: 1.8334 - val_accuracy: 0.3143\n",
            "Epoch 14/500\n",
            "115/115 [==============================] - 2s 17ms/step - loss: 1.9621 - accuracy: 0.2555 - val_loss: 1.8371 - val_accuracy: 0.2621\n",
            "Epoch 15/500\n",
            "115/115 [==============================] - 2s 17ms/step - loss: 1.9454 - accuracy: 0.2456 - val_loss: 1.8489 - val_accuracy: 0.3232\n",
            "Epoch 16/500\n",
            "115/115 [==============================] - 2s 17ms/step - loss: 1.9472 - accuracy: 0.2736 - val_loss: 1.8040 - val_accuracy: 0.3074\n",
            "Epoch 17/500\n",
            "115/115 [==============================] - 2s 17ms/step - loss: 1.8751 - accuracy: 0.2908 - val_loss: 1.8019 - val_accuracy: 0.3025\n",
            "Epoch 18/500\n",
            "115/115 [==============================] - 2s 17ms/step - loss: 1.8807 - accuracy: 0.2761 - val_loss: 1.7862 - val_accuracy: 0.3015\n",
            "Epoch 19/500\n",
            "115/115 [==============================] - 2s 17ms/step - loss: 1.8856 - accuracy: 0.2880 - val_loss: 1.7922 - val_accuracy: 0.3005\n",
            "Epoch 20/500\n",
            "115/115 [==============================] - 2s 17ms/step - loss: 1.8694 - accuracy: 0.2932 - val_loss: 1.7764 - val_accuracy: 0.3409\n",
            "Epoch 21/500\n",
            "115/115 [==============================] - 2s 18ms/step - loss: 1.8737 - accuracy: 0.2858 - val_loss: 1.7559 - val_accuracy: 0.3458\n",
            "Epoch 22/500\n",
            "115/115 [==============================] - 2s 18ms/step - loss: 1.8272 - accuracy: 0.3017 - val_loss: 1.7815 - val_accuracy: 0.2847\n",
            "Epoch 23/500\n",
            "115/115 [==============================] - 2s 17ms/step - loss: 1.8256 - accuracy: 0.3084 - val_loss: 1.8029 - val_accuracy: 0.2788\n",
            "Epoch 24/500\n",
            "115/115 [==============================] - 2s 18ms/step - loss: 1.7660 - accuracy: 0.3266 - val_loss: 1.7339 - val_accuracy: 0.3310\n",
            "Epoch 25/500\n",
            "115/115 [==============================] - 2s 18ms/step - loss: 1.8298 - accuracy: 0.3063 - val_loss: 1.7412 - val_accuracy: 0.3586\n",
            "Epoch 26/500\n",
            "115/115 [==============================] - 2s 18ms/step - loss: 1.7998 - accuracy: 0.3189 - val_loss: 1.7254 - val_accuracy: 0.3281\n",
            "Epoch 27/500\n",
            "115/115 [==============================] - 2s 18ms/step - loss: 1.7603 - accuracy: 0.3206 - val_loss: 1.6965 - val_accuracy: 0.3586\n",
            "Epoch 28/500\n",
            "115/115 [==============================] - 2s 18ms/step - loss: 1.7768 - accuracy: 0.3144 - val_loss: 1.7288 - val_accuracy: 0.3310\n",
            "Epoch 29/500\n",
            "115/115 [==============================] - 2s 18ms/step - loss: 1.7681 - accuracy: 0.3233 - val_loss: 1.6795 - val_accuracy: 0.3586\n",
            "Epoch 30/500\n",
            "115/115 [==============================] - 2s 18ms/step - loss: 1.7706 - accuracy: 0.3289 - val_loss: 1.6832 - val_accuracy: 0.3734\n",
            "Epoch 31/500\n",
            "115/115 [==============================] - 2s 18ms/step - loss: 1.7280 - accuracy: 0.3488 - val_loss: 1.6991 - val_accuracy: 0.3685\n",
            "Epoch 32/500\n",
            "115/115 [==============================] - 2s 18ms/step - loss: 1.7318 - accuracy: 0.3345 - val_loss: 1.6763 - val_accuracy: 0.3704\n",
            "Epoch 33/500\n",
            "115/115 [==============================] - 2s 17ms/step - loss: 1.7156 - accuracy: 0.3701 - val_loss: 1.6473 - val_accuracy: 0.3823\n",
            "Epoch 34/500\n",
            "115/115 [==============================] - 2s 17ms/step - loss: 1.7148 - accuracy: 0.3506 - val_loss: 1.6672 - val_accuracy: 0.3783\n",
            "Epoch 35/500\n",
            "115/115 [==============================] - 2s 17ms/step - loss: 1.7054 - accuracy: 0.3473 - val_loss: 1.6524 - val_accuracy: 0.3773\n",
            "Epoch 36/500\n",
            "115/115 [==============================] - 2s 17ms/step - loss: 1.7044 - accuracy: 0.3423 - val_loss: 1.6447 - val_accuracy: 0.3773\n",
            "Epoch 37/500\n",
            "115/115 [==============================] - 2s 17ms/step - loss: 1.6780 - accuracy: 0.3444 - val_loss: 1.6341 - val_accuracy: 0.3734\n",
            "Epoch 38/500\n",
            "115/115 [==============================] - 2s 17ms/step - loss: 1.6847 - accuracy: 0.3665 - val_loss: 1.6574 - val_accuracy: 0.3754\n",
            "Epoch 39/500\n",
            "115/115 [==============================] - 2s 17ms/step - loss: 1.6647 - accuracy: 0.3680 - val_loss: 1.6278 - val_accuracy: 0.3852\n",
            "Epoch 40/500\n",
            "115/115 [==============================] - 2s 17ms/step - loss: 1.6345 - accuracy: 0.3726 - val_loss: 1.6027 - val_accuracy: 0.4049\n",
            "Epoch 41/500\n",
            "115/115 [==============================] - 2s 18ms/step - loss: 1.6626 - accuracy: 0.3705 - val_loss: 1.6003 - val_accuracy: 0.3921\n",
            "Epoch 42/500\n",
            "115/115 [==============================] - 2s 18ms/step - loss: 1.6464 - accuracy: 0.3754 - val_loss: 1.5956 - val_accuracy: 0.4227\n",
            "Epoch 43/500\n",
            "115/115 [==============================] - 2s 17ms/step - loss: 1.6311 - accuracy: 0.3772 - val_loss: 1.5885 - val_accuracy: 0.4089\n",
            "Epoch 44/500\n",
            "115/115 [==============================] - 2s 18ms/step - loss: 1.6075 - accuracy: 0.4056 - val_loss: 1.6031 - val_accuracy: 0.4000\n",
            "Epoch 45/500\n",
            "115/115 [==============================] - 2s 17ms/step - loss: 1.6415 - accuracy: 0.3803 - val_loss: 1.5681 - val_accuracy: 0.4030\n",
            "Epoch 46/500\n",
            "115/115 [==============================] - 2s 17ms/step - loss: 1.5658 - accuracy: 0.4264 - val_loss: 1.5562 - val_accuracy: 0.4167\n",
            "Epoch 47/500\n",
            "115/115 [==============================] - 2s 18ms/step - loss: 1.6255 - accuracy: 0.3955 - val_loss: 1.5717 - val_accuracy: 0.4089\n",
            "Epoch 48/500\n",
            "115/115 [==============================] - 2s 18ms/step - loss: 1.5924 - accuracy: 0.4091 - val_loss: 1.5501 - val_accuracy: 0.4315\n",
            "Epoch 49/500\n",
            "115/115 [==============================] - 2s 18ms/step - loss: 1.5868 - accuracy: 0.3854 - val_loss: 1.5462 - val_accuracy: 0.4325\n",
            "Epoch 50/500\n",
            "115/115 [==============================] - 2s 18ms/step - loss: 1.5640 - accuracy: 0.4168 - val_loss: 1.5476 - val_accuracy: 0.4315\n",
            "Epoch 51/500\n",
            "115/115 [==============================] - 2s 18ms/step - loss: 1.6022 - accuracy: 0.4124 - val_loss: 1.5312 - val_accuracy: 0.4167\n",
            "Epoch 52/500\n",
            "115/115 [==============================] - 2s 20ms/step - loss: 1.5608 - accuracy: 0.4088 - val_loss: 1.5319 - val_accuracy: 0.4217\n",
            "Epoch 53/500\n",
            "115/115 [==============================] - 2s 18ms/step - loss: 1.5349 - accuracy: 0.4586 - val_loss: 1.5286 - val_accuracy: 0.4345\n",
            "Epoch 54/500\n",
            "115/115 [==============================] - 2s 18ms/step - loss: 1.5644 - accuracy: 0.4189 - val_loss: 1.5070 - val_accuracy: 0.4502\n",
            "Epoch 55/500\n",
            "115/115 [==============================] - 2s 18ms/step - loss: 1.5331 - accuracy: 0.4315 - val_loss: 1.5127 - val_accuracy: 0.4305\n",
            "Epoch 56/500\n",
            "115/115 [==============================] - 2s 18ms/step - loss: 1.4987 - accuracy: 0.4425 - val_loss: 1.4742 - val_accuracy: 0.4729\n",
            "Epoch 57/500\n",
            "115/115 [==============================] - 2s 18ms/step - loss: 1.4901 - accuracy: 0.4649 - val_loss: 1.4959 - val_accuracy: 0.4571\n",
            "Epoch 58/500\n",
            "115/115 [==============================] - 2s 18ms/step - loss: 1.4858 - accuracy: 0.4555 - val_loss: 1.4723 - val_accuracy: 0.4473\n",
            "Epoch 59/500\n",
            "115/115 [==============================] - 2s 18ms/step - loss: 1.5098 - accuracy: 0.4474 - val_loss: 1.4546 - val_accuracy: 0.4897\n",
            "Epoch 60/500\n",
            "115/115 [==============================] - 2s 18ms/step - loss: 1.4875 - accuracy: 0.4355 - val_loss: 1.4873 - val_accuracy: 0.4443\n",
            "Epoch 61/500\n",
            "115/115 [==============================] - 2s 18ms/step - loss: 1.4413 - accuracy: 0.4760 - val_loss: 1.4574 - val_accuracy: 0.4493\n",
            "Epoch 62/500\n",
            "115/115 [==============================] - 2s 18ms/step - loss: 1.4732 - accuracy: 0.4558 - val_loss: 1.4327 - val_accuracy: 0.4818\n",
            "Epoch 63/500\n",
            "115/115 [==============================] - 2s 18ms/step - loss: 1.4549 - accuracy: 0.4723 - val_loss: 1.4618 - val_accuracy: 0.4906\n",
            "Epoch 64/500\n",
            "115/115 [==============================] - 2s 18ms/step - loss: 1.4517 - accuracy: 0.4496 - val_loss: 1.4635 - val_accuracy: 0.4473\n",
            "Epoch 65/500\n",
            "115/115 [==============================] - 2s 18ms/step - loss: 1.4197 - accuracy: 0.4889 - val_loss: 1.4285 - val_accuracy: 0.4719\n",
            "Epoch 66/500\n",
            "115/115 [==============================] - 2s 18ms/step - loss: 1.4298 - accuracy: 0.4768 - val_loss: 1.4145 - val_accuracy: 0.4768\n",
            "Epoch 67/500\n",
            "115/115 [==============================] - 2s 18ms/step - loss: 1.4229 - accuracy: 0.4729 - val_loss: 1.4318 - val_accuracy: 0.4768\n",
            "Epoch 68/500\n",
            "115/115 [==============================] - 2s 18ms/step - loss: 1.3859 - accuracy: 0.5018 - val_loss: 1.4142 - val_accuracy: 0.4680\n",
            "Epoch 69/500\n",
            "115/115 [==============================] - 2s 18ms/step - loss: 1.4297 - accuracy: 0.4838 - val_loss: 1.4029 - val_accuracy: 0.4985\n",
            "Epoch 70/500\n",
            "115/115 [==============================] - 2s 18ms/step - loss: 1.4062 - accuracy: 0.4933 - val_loss: 1.3915 - val_accuracy: 0.5005\n",
            "Epoch 71/500\n",
            "115/115 [==============================] - 2s 19ms/step - loss: 1.3812 - accuracy: 0.5000 - val_loss: 1.4180 - val_accuracy: 0.4680\n",
            "Epoch 72/500\n",
            "115/115 [==============================] - 2s 18ms/step - loss: 1.4070 - accuracy: 0.4802 - val_loss: 1.3691 - val_accuracy: 0.4926\n",
            "Epoch 73/500\n",
            "115/115 [==============================] - 2s 18ms/step - loss: 1.3820 - accuracy: 0.5071 - val_loss: 1.3791 - val_accuracy: 0.4926\n",
            "Epoch 74/500\n",
            "115/115 [==============================] - 2s 18ms/step - loss: 1.3864 - accuracy: 0.4830 - val_loss: 1.3862 - val_accuracy: 0.4966\n",
            "Epoch 75/500\n",
            "115/115 [==============================] - 2s 17ms/step - loss: 1.3556 - accuracy: 0.5048 - val_loss: 1.3442 - val_accuracy: 0.5399\n",
            "Epoch 76/500\n",
            "115/115 [==============================] - 2s 18ms/step - loss: 1.3275 - accuracy: 0.5279 - val_loss: 1.3604 - val_accuracy: 0.4966\n",
            "Epoch 77/500\n",
            "115/115 [==============================] - 2s 19ms/step - loss: 1.3183 - accuracy: 0.5190 - val_loss: 1.3426 - val_accuracy: 0.5232\n",
            "Epoch 78/500\n",
            "115/115 [==============================] - 2s 18ms/step - loss: 1.3094 - accuracy: 0.5033 - val_loss: 1.3600 - val_accuracy: 0.4995\n",
            "Epoch 79/500\n",
            "115/115 [==============================] - 2s 18ms/step - loss: 1.3376 - accuracy: 0.4965 - val_loss: 1.3426 - val_accuracy: 0.5281\n",
            "Epoch 80/500\n",
            "115/115 [==============================] - 2s 18ms/step - loss: 1.3575 - accuracy: 0.5083 - val_loss: 1.3312 - val_accuracy: 0.5044\n",
            "Epoch 81/500\n",
            "115/115 [==============================] - 2s 18ms/step - loss: 1.2838 - accuracy: 0.5156 - val_loss: 1.3283 - val_accuracy: 0.5182\n",
            "Epoch 82/500\n",
            "115/115 [==============================] - 2s 18ms/step - loss: 1.2903 - accuracy: 0.5325 - val_loss: 1.3326 - val_accuracy: 0.5271\n",
            "Epoch 83/500\n",
            "115/115 [==============================] - 2s 18ms/step - loss: 1.3278 - accuracy: 0.5113 - val_loss: 1.3105 - val_accuracy: 0.5163\n",
            "Epoch 84/500\n",
            "115/115 [==============================] - 2s 18ms/step - loss: 1.2769 - accuracy: 0.5387 - val_loss: 1.3406 - val_accuracy: 0.5448\n",
            "Epoch 85/500\n",
            "115/115 [==============================] - 2s 18ms/step - loss: 1.3049 - accuracy: 0.5174 - val_loss: 1.3019 - val_accuracy: 0.5438\n",
            "Epoch 86/500\n",
            "115/115 [==============================] - 2s 18ms/step - loss: 1.2758 - accuracy: 0.5271 - val_loss: 1.2805 - val_accuracy: 0.5389\n",
            "Epoch 87/500\n",
            "115/115 [==============================] - 2s 18ms/step - loss: 1.3061 - accuracy: 0.5294 - val_loss: 1.3166 - val_accuracy: 0.5399\n",
            "Epoch 88/500\n",
            "115/115 [==============================] - 2s 18ms/step - loss: 1.2932 - accuracy: 0.5178 - val_loss: 1.2984 - val_accuracy: 0.5350\n",
            "Epoch 89/500\n",
            "115/115 [==============================] - 2s 18ms/step - loss: 1.2437 - accuracy: 0.5533 - val_loss: 1.2949 - val_accuracy: 0.5350\n",
            "Epoch 90/500\n",
            "115/115 [==============================] - 2s 18ms/step - loss: 1.2608 - accuracy: 0.5261 - val_loss: 1.2963 - val_accuracy: 0.5143\n",
            "Epoch 91/500\n",
            "115/115 [==============================] - 2s 18ms/step - loss: 1.2104 - accuracy: 0.5547 - val_loss: 1.2475 - val_accuracy: 0.5724\n",
            "Epoch 92/500\n",
            "115/115 [==============================] - 2s 17ms/step - loss: 1.2303 - accuracy: 0.5457 - val_loss: 1.2576 - val_accuracy: 0.5350\n",
            "Epoch 93/500\n",
            "115/115 [==============================] - 2s 18ms/step - loss: 1.2431 - accuracy: 0.5489 - val_loss: 1.2574 - val_accuracy: 0.5379\n",
            "Epoch 94/500\n",
            "115/115 [==============================] - 2s 18ms/step - loss: 1.2145 - accuracy: 0.5511 - val_loss: 1.2510 - val_accuracy: 0.5399\n",
            "Epoch 95/500\n",
            "115/115 [==============================] - 2s 18ms/step - loss: 1.2362 - accuracy: 0.5444 - val_loss: 1.2377 - val_accuracy: 0.5685\n",
            "Epoch 96/500\n",
            "115/115 [==============================] - 2s 18ms/step - loss: 1.2033 - accuracy: 0.5545 - val_loss: 1.2226 - val_accuracy: 0.5813\n",
            "Epoch 97/500\n",
            "115/115 [==============================] - 2s 18ms/step - loss: 1.2218 - accuracy: 0.5459 - val_loss: 1.2263 - val_accuracy: 0.5576\n",
            "Epoch 98/500\n",
            "115/115 [==============================] - 2s 18ms/step - loss: 1.1858 - accuracy: 0.5559 - val_loss: 1.2119 - val_accuracy: 0.5734\n",
            "Epoch 99/500\n",
            "115/115 [==============================] - 2s 18ms/step - loss: 1.2065 - accuracy: 0.5527 - val_loss: 1.2217 - val_accuracy: 0.5547\n",
            "Epoch 100/500\n",
            "115/115 [==============================] - 2s 18ms/step - loss: 1.1908 - accuracy: 0.5754 - val_loss: 1.2620 - val_accuracy: 0.5409\n",
            "Epoch 101/500\n",
            "115/115 [==============================] - 2s 18ms/step - loss: 1.1805 - accuracy: 0.5497 - val_loss: 1.1894 - val_accuracy: 0.5803\n",
            "Epoch 102/500\n",
            "115/115 [==============================] - 2s 18ms/step - loss: 1.2101 - accuracy: 0.5517 - val_loss: 1.2119 - val_accuracy: 0.5517\n",
            "Epoch 103/500\n",
            "115/115 [==============================] - 2s 18ms/step - loss: 1.1650 - accuracy: 0.5738 - val_loss: 1.2039 - val_accuracy: 0.5626\n",
            "Epoch 104/500\n",
            "115/115 [==============================] - 2s 18ms/step - loss: 1.1900 - accuracy: 0.5578 - val_loss: 1.1855 - val_accuracy: 0.5695\n",
            "Epoch 105/500\n",
            "115/115 [==============================] - 2s 18ms/step - loss: 1.1517 - accuracy: 0.5845 - val_loss: 1.1890 - val_accuracy: 0.5764\n",
            "Epoch 106/500\n",
            "115/115 [==============================] - 2s 18ms/step - loss: 1.1390 - accuracy: 0.5783 - val_loss: 1.1993 - val_accuracy: 0.5547\n",
            "Epoch 107/500\n",
            "115/115 [==============================] - 2s 18ms/step - loss: 1.1646 - accuracy: 0.5478 - val_loss: 1.1994 - val_accuracy: 0.5458\n",
            "Epoch 108/500\n",
            "115/115 [==============================] - 2s 18ms/step - loss: 1.1303 - accuracy: 0.5884 - val_loss: 1.1693 - val_accuracy: 0.5823\n",
            "Epoch 109/500\n",
            "115/115 [==============================] - 2s 18ms/step - loss: 1.1297 - accuracy: 0.5902 - val_loss: 1.1950 - val_accuracy: 0.5517\n",
            "Epoch 110/500\n",
            "115/115 [==============================] - 2s 17ms/step - loss: 1.1522 - accuracy: 0.5952 - val_loss: 1.1624 - val_accuracy: 0.5980\n",
            "Epoch 111/500\n",
            "115/115 [==============================] - 2s 18ms/step - loss: 1.1224 - accuracy: 0.6088 - val_loss: 1.1728 - val_accuracy: 0.5764\n",
            "Epoch 112/500\n",
            "115/115 [==============================] - 2s 18ms/step - loss: 1.0976 - accuracy: 0.5949 - val_loss: 1.1450 - val_accuracy: 0.6010\n",
            "Epoch 113/500\n",
            "115/115 [==============================] - 2s 18ms/step - loss: 1.1321 - accuracy: 0.5749 - val_loss: 1.1750 - val_accuracy: 0.5665\n",
            "Epoch 114/500\n",
            "115/115 [==============================] - 2s 18ms/step - loss: 1.1090 - accuracy: 0.5869 - val_loss: 1.1945 - val_accuracy: 0.5892\n",
            "Epoch 115/500\n",
            "115/115 [==============================] - 2s 18ms/step - loss: 1.1213 - accuracy: 0.5938 - val_loss: 1.1462 - val_accuracy: 0.5980\n",
            "Epoch 116/500\n",
            "115/115 [==============================] - 2s 18ms/step - loss: 1.1135 - accuracy: 0.5755 - val_loss: 1.1395 - val_accuracy: 0.5911\n",
            "Epoch 117/500\n",
            "115/115 [==============================] - 2s 18ms/step - loss: 1.0926 - accuracy: 0.6032 - val_loss: 1.1285 - val_accuracy: 0.6197\n",
            "Epoch 118/500\n",
            "115/115 [==============================] - 2s 18ms/step - loss: 1.0845 - accuracy: 0.6013 - val_loss: 1.1299 - val_accuracy: 0.6167\n",
            "Epoch 119/500\n",
            "115/115 [==============================] - 2s 19ms/step - loss: 1.0380 - accuracy: 0.6348 - val_loss: 1.1241 - val_accuracy: 0.6197\n",
            "Epoch 120/500\n",
            "115/115 [==============================] - 2s 18ms/step - loss: 1.0656 - accuracy: 0.6104 - val_loss: 1.1403 - val_accuracy: 0.5862\n",
            "Epoch 121/500\n",
            "115/115 [==============================] - 2s 18ms/step - loss: 1.0357 - accuracy: 0.6315 - val_loss: 1.1441 - val_accuracy: 0.6118\n",
            "Epoch 122/500\n",
            "115/115 [==============================] - 2s 18ms/step - loss: 1.0699 - accuracy: 0.6156 - val_loss: 1.1341 - val_accuracy: 0.5744\n",
            "Epoch 123/500\n",
            "115/115 [==============================] - 2s 19ms/step - loss: 1.0928 - accuracy: 0.6013 - val_loss: 1.0851 - val_accuracy: 0.6158\n",
            "Epoch 124/500\n",
            "115/115 [==============================] - 2s 18ms/step - loss: 1.0471 - accuracy: 0.6230 - val_loss: 1.0916 - val_accuracy: 0.6256\n",
            "Epoch 125/500\n",
            "115/115 [==============================] - 2s 18ms/step - loss: 1.0422 - accuracy: 0.6282 - val_loss: 1.0960 - val_accuracy: 0.6325\n",
            "Epoch 126/500\n",
            "115/115 [==============================] - 2s 18ms/step - loss: 1.0241 - accuracy: 0.6400 - val_loss: 1.0957 - val_accuracy: 0.6197\n",
            "Epoch 127/500\n",
            "115/115 [==============================] - 2s 18ms/step - loss: 1.0341 - accuracy: 0.6283 - val_loss: 1.1247 - val_accuracy: 0.6039\n",
            "Epoch 128/500\n",
            "115/115 [==============================] - 2s 18ms/step - loss: 1.0167 - accuracy: 0.6437 - val_loss: 1.1000 - val_accuracy: 0.6099\n",
            "Epoch 129/500\n",
            "115/115 [==============================] - 2s 18ms/step - loss: 1.0047 - accuracy: 0.6425 - val_loss: 1.0948 - val_accuracy: 0.6355\n",
            "Epoch 130/500\n",
            "115/115 [==============================] - 2s 18ms/step - loss: 1.0101 - accuracy: 0.6348 - val_loss: 1.0801 - val_accuracy: 0.6069\n",
            "Epoch 131/500\n",
            "115/115 [==============================] - 2s 18ms/step - loss: 1.0171 - accuracy: 0.6283 - val_loss: 1.0632 - val_accuracy: 0.6374\n",
            "Epoch 132/500\n",
            "115/115 [==============================] - 2s 19ms/step - loss: 1.0127 - accuracy: 0.6432 - val_loss: 1.0920 - val_accuracy: 0.6365\n",
            "Epoch 133/500\n",
            "115/115 [==============================] - 2s 19ms/step - loss: 0.9912 - accuracy: 0.6310 - val_loss: 1.0823 - val_accuracy: 0.6177\n",
            "Epoch 134/500\n",
            "115/115 [==============================] - 2s 18ms/step - loss: 0.9657 - accuracy: 0.6499 - val_loss: 1.0621 - val_accuracy: 0.6305\n",
            "Epoch 135/500\n",
            "115/115 [==============================] - 2s 18ms/step - loss: 0.9626 - accuracy: 0.6420 - val_loss: 1.0592 - val_accuracy: 0.6384\n",
            "Epoch 136/500\n",
            "115/115 [==============================] - 2s 18ms/step - loss: 0.9870 - accuracy: 0.6520 - val_loss: 1.0520 - val_accuracy: 0.6493\n",
            "Epoch 137/500\n",
            "115/115 [==============================] - 2s 18ms/step - loss: 0.9367 - accuracy: 0.6651 - val_loss: 1.0485 - val_accuracy: 0.6443\n",
            "Epoch 138/500\n",
            "115/115 [==============================] - 2s 18ms/step - loss: 0.9105 - accuracy: 0.6779 - val_loss: 1.0779 - val_accuracy: 0.6266\n",
            "Epoch 139/500\n",
            "115/115 [==============================] - 2s 18ms/step - loss: 0.9536 - accuracy: 0.6363 - val_loss: 1.0431 - val_accuracy: 0.6424\n",
            "Epoch 140/500\n",
            "115/115 [==============================] - 2s 18ms/step - loss: 0.9312 - accuracy: 0.6770 - val_loss: 1.0598 - val_accuracy: 0.6394\n",
            "Epoch 141/500\n",
            "115/115 [==============================] - 2s 18ms/step - loss: 0.9122 - accuracy: 0.6733 - val_loss: 1.0381 - val_accuracy: 0.6463\n",
            "Epoch 142/500\n",
            "115/115 [==============================] - 2s 18ms/step - loss: 0.9523 - accuracy: 0.6671 - val_loss: 1.0068 - val_accuracy: 0.6631\n",
            "Epoch 143/500\n",
            "115/115 [==============================] - 2s 18ms/step - loss: 0.9470 - accuracy: 0.6579 - val_loss: 1.0099 - val_accuracy: 0.6542\n",
            "Epoch 144/500\n",
            "115/115 [==============================] - 2s 18ms/step - loss: 0.9347 - accuracy: 0.6726 - val_loss: 1.0576 - val_accuracy: 0.6266\n",
            "Epoch 145/500\n",
            "115/115 [==============================] - 2s 19ms/step - loss: 0.9103 - accuracy: 0.6932 - val_loss: 1.0239 - val_accuracy: 0.6414\n",
            "Epoch 146/500\n",
            "115/115 [==============================] - 2s 18ms/step - loss: 0.9237 - accuracy: 0.6732 - val_loss: 1.0156 - val_accuracy: 0.6552\n",
            "Epoch 147/500\n",
            "115/115 [==============================] - 2s 18ms/step - loss: 0.8871 - accuracy: 0.6956 - val_loss: 1.0363 - val_accuracy: 0.6335\n",
            "Epoch 148/500\n",
            "115/115 [==============================] - 2s 20ms/step - loss: 0.9404 - accuracy: 0.6654 - val_loss: 1.0171 - val_accuracy: 0.6591\n",
            "Epoch 149/500\n",
            "115/115 [==============================] - 2s 18ms/step - loss: 0.9590 - accuracy: 0.6513 - val_loss: 1.0277 - val_accuracy: 0.6552\n",
            "Epoch 150/500\n",
            "115/115 [==============================] - 2s 18ms/step - loss: 0.9007 - accuracy: 0.6847 - val_loss: 0.9933 - val_accuracy: 0.6729\n",
            "Epoch 151/500\n",
            "115/115 [==============================] - 2s 18ms/step - loss: 0.9048 - accuracy: 0.6745 - val_loss: 0.9927 - val_accuracy: 0.6680\n",
            "Epoch 152/500\n",
            "115/115 [==============================] - 2s 18ms/step - loss: 0.9256 - accuracy: 0.6697 - val_loss: 0.9903 - val_accuracy: 0.6640\n",
            "Epoch 153/500\n",
            "115/115 [==============================] - 2s 18ms/step - loss: 0.9244 - accuracy: 0.6789 - val_loss: 1.0238 - val_accuracy: 0.6542\n",
            "Epoch 154/500\n",
            "115/115 [==============================] - 2s 18ms/step - loss: 0.8680 - accuracy: 0.6909 - val_loss: 0.9765 - val_accuracy: 0.6798\n",
            "Epoch 155/500\n",
            "115/115 [==============================] - 2s 18ms/step - loss: 0.8695 - accuracy: 0.6907 - val_loss: 0.9756 - val_accuracy: 0.6690\n",
            "Epoch 156/500\n",
            "115/115 [==============================] - 2s 18ms/step - loss: 0.8771 - accuracy: 0.7026 - val_loss: 0.9847 - val_accuracy: 0.6778\n",
            "Epoch 157/500\n",
            "115/115 [==============================] - 2s 18ms/step - loss: 0.8395 - accuracy: 0.7041 - val_loss: 0.9883 - val_accuracy: 0.6621\n",
            "Epoch 158/500\n",
            "115/115 [==============================] - 2s 18ms/step - loss: 0.9035 - accuracy: 0.6864 - val_loss: 0.9747 - val_accuracy: 0.6818\n",
            "Epoch 159/500\n",
            "115/115 [==============================] - 2s 18ms/step - loss: 0.8827 - accuracy: 0.6708 - val_loss: 0.9916 - val_accuracy: 0.6739\n",
            "Epoch 160/500\n",
            "115/115 [==============================] - 2s 18ms/step - loss: 0.7926 - accuracy: 0.7295 - val_loss: 0.9565 - val_accuracy: 0.6768\n",
            "Epoch 161/500\n",
            "115/115 [==============================] - 2s 19ms/step - loss: 0.7973 - accuracy: 0.7128 - val_loss: 0.9663 - val_accuracy: 0.6729\n",
            "Epoch 162/500\n",
            "115/115 [==============================] - 2s 18ms/step - loss: 0.8391 - accuracy: 0.7042 - val_loss: 0.9430 - val_accuracy: 0.6906\n",
            "Epoch 163/500\n",
            "115/115 [==============================] - 2s 18ms/step - loss: 0.8340 - accuracy: 0.7026 - val_loss: 0.9586 - val_accuracy: 0.6798\n",
            "Epoch 164/500\n",
            "115/115 [==============================] - 2s 18ms/step - loss: 0.8423 - accuracy: 0.7134 - val_loss: 0.9696 - val_accuracy: 0.6729\n",
            "Epoch 165/500\n",
            "115/115 [==============================] - 2s 18ms/step - loss: 0.8634 - accuracy: 0.6946 - val_loss: 0.9455 - val_accuracy: 0.6818\n",
            "Epoch 166/500\n",
            "115/115 [==============================] - 2s 18ms/step - loss: 0.8231 - accuracy: 0.7117 - val_loss: 0.9480 - val_accuracy: 0.6690\n",
            "Epoch 167/500\n",
            "115/115 [==============================] - 2s 18ms/step - loss: 0.8454 - accuracy: 0.6986 - val_loss: 0.9569 - val_accuracy: 0.6847\n",
            "Epoch 168/500\n",
            "115/115 [==============================] - 2s 18ms/step - loss: 0.8105 - accuracy: 0.7263 - val_loss: 0.9353 - val_accuracy: 0.6887\n",
            "Epoch 169/500\n",
            "115/115 [==============================] - 2s 18ms/step - loss: 0.7884 - accuracy: 0.7254 - val_loss: 0.9236 - val_accuracy: 0.6966\n",
            "Epoch 170/500\n",
            "115/115 [==============================] - 2s 18ms/step - loss: 0.7762 - accuracy: 0.7293 - val_loss: 0.9173 - val_accuracy: 0.6887\n",
            "Epoch 171/500\n",
            "115/115 [==============================] - 2s 18ms/step - loss: 0.8188 - accuracy: 0.7048 - val_loss: 0.9333 - val_accuracy: 0.6926\n",
            "Epoch 172/500\n",
            "115/115 [==============================] - 2s 18ms/step - loss: 0.7950 - accuracy: 0.7196 - val_loss: 0.9125 - val_accuracy: 0.6985\n",
            "Epoch 173/500\n",
            "115/115 [==============================] - 2s 18ms/step - loss: 0.8022 - accuracy: 0.7048 - val_loss: 0.9262 - val_accuracy: 0.6857\n",
            "Epoch 174/500\n",
            "115/115 [==============================] - 2s 19ms/step - loss: 0.7774 - accuracy: 0.7129 - val_loss: 0.9196 - val_accuracy: 0.6867\n",
            "Epoch 175/500\n",
            "115/115 [==============================] - 2s 18ms/step - loss: 0.8166 - accuracy: 0.7154 - val_loss: 0.9159 - val_accuracy: 0.6995\n",
            "Epoch 176/500\n",
            "115/115 [==============================] - 2s 19ms/step - loss: 0.7565 - accuracy: 0.7230 - val_loss: 0.9558 - val_accuracy: 0.6847\n",
            "Epoch 177/500\n",
            "115/115 [==============================] - 2s 18ms/step - loss: 0.7810 - accuracy: 0.7410 - val_loss: 0.9073 - val_accuracy: 0.7103\n",
            "Epoch 178/500\n",
            "115/115 [==============================] - 2s 19ms/step - loss: 0.7937 - accuracy: 0.7313 - val_loss: 0.9088 - val_accuracy: 0.6995\n",
            "Epoch 179/500\n",
            "115/115 [==============================] - 2s 19ms/step - loss: 0.7751 - accuracy: 0.7351 - val_loss: 0.9762 - val_accuracy: 0.6611\n",
            "Epoch 180/500\n",
            "115/115 [==============================] - 2s 19ms/step - loss: 0.7565 - accuracy: 0.7293 - val_loss: 0.9127 - val_accuracy: 0.7074\n",
            "Epoch 181/500\n",
            "115/115 [==============================] - 2s 18ms/step - loss: 0.7564 - accuracy: 0.7316 - val_loss: 0.9390 - val_accuracy: 0.6956\n",
            "Epoch 182/500\n",
            "115/115 [==============================] - 2s 18ms/step - loss: 0.7957 - accuracy: 0.7112 - val_loss: 0.8964 - val_accuracy: 0.7202\n",
            "Epoch 183/500\n",
            "115/115 [==============================] - 2s 18ms/step - loss: 0.7469 - accuracy: 0.7404 - val_loss: 0.8964 - val_accuracy: 0.6985\n",
            "Epoch 184/500\n",
            "115/115 [==============================] - 2s 19ms/step - loss: 0.7810 - accuracy: 0.7345 - val_loss: 0.9113 - val_accuracy: 0.7025\n",
            "Epoch 185/500\n",
            "115/115 [==============================] - 2s 18ms/step - loss: 0.7501 - accuracy: 0.7323 - val_loss: 0.9042 - val_accuracy: 0.7044\n",
            "Epoch 186/500\n",
            "115/115 [==============================] - 2s 18ms/step - loss: 0.7315 - accuracy: 0.7482 - val_loss: 0.8767 - val_accuracy: 0.7271\n",
            "Epoch 187/500\n",
            "115/115 [==============================] - 2s 18ms/step - loss: 0.7342 - accuracy: 0.7452 - val_loss: 0.8921 - val_accuracy: 0.7222\n",
            "Epoch 188/500\n",
            "115/115 [==============================] - 2s 18ms/step - loss: 0.6740 - accuracy: 0.7712 - val_loss: 0.8704 - val_accuracy: 0.7113\n",
            "Epoch 189/500\n",
            "115/115 [==============================] - 2s 18ms/step - loss: 0.6994 - accuracy: 0.7581 - val_loss: 0.8953 - val_accuracy: 0.7084\n",
            "Epoch 190/500\n",
            "115/115 [==============================] - 2s 18ms/step - loss: 0.7316 - accuracy: 0.7388 - val_loss: 0.8606 - val_accuracy: 0.7310\n",
            "Epoch 191/500\n",
            "115/115 [==============================] - 2s 18ms/step - loss: 0.6917 - accuracy: 0.7486 - val_loss: 0.8937 - val_accuracy: 0.7094\n",
            "Epoch 192/500\n",
            "115/115 [==============================] - 2s 18ms/step - loss: 0.7060 - accuracy: 0.7469 - val_loss: 0.9018 - val_accuracy: 0.7163\n",
            "Epoch 193/500\n",
            "115/115 [==============================] - 2s 18ms/step - loss: 0.7231 - accuracy: 0.7592 - val_loss: 0.9101 - val_accuracy: 0.7054\n",
            "Epoch 194/500\n",
            "115/115 [==============================] - 2s 18ms/step - loss: 0.7040 - accuracy: 0.7578 - val_loss: 0.8745 - val_accuracy: 0.7202\n",
            "Epoch 195/500\n",
            "115/115 [==============================] - 2s 18ms/step - loss: 0.7196 - accuracy: 0.7651 - val_loss: 0.9595 - val_accuracy: 0.6680\n",
            "Epoch 196/500\n",
            "115/115 [==============================] - 2s 18ms/step - loss: 0.6901 - accuracy: 0.7570 - val_loss: 0.8596 - val_accuracy: 0.7143\n",
            "Epoch 197/500\n",
            "115/115 [==============================] - 2s 18ms/step - loss: 0.6622 - accuracy: 0.7764 - val_loss: 0.8617 - val_accuracy: 0.7291\n",
            "Epoch 198/500\n",
            "115/115 [==============================] - 2s 19ms/step - loss: 0.6850 - accuracy: 0.7630 - val_loss: 0.8567 - val_accuracy: 0.7320\n",
            "Epoch 199/500\n",
            "115/115 [==============================] - 2s 19ms/step - loss: 0.6529 - accuracy: 0.7685 - val_loss: 0.8731 - val_accuracy: 0.7300\n",
            "Epoch 200/500\n",
            "115/115 [==============================] - 2s 19ms/step - loss: 0.6894 - accuracy: 0.7641 - val_loss: 0.9078 - val_accuracy: 0.7015\n",
            "Epoch 201/500\n",
            "115/115 [==============================] - 2s 18ms/step - loss: 0.6692 - accuracy: 0.7585 - val_loss: 0.8542 - val_accuracy: 0.7350\n",
            "Epoch 202/500\n",
            "115/115 [==============================] - 2s 18ms/step - loss: 0.6509 - accuracy: 0.7757 - val_loss: 0.8710 - val_accuracy: 0.7163\n",
            "Epoch 203/500\n",
            "115/115 [==============================] - 2s 19ms/step - loss: 0.7015 - accuracy: 0.7479 - val_loss: 0.8610 - val_accuracy: 0.7153\n",
            "Epoch 204/500\n",
            "115/115 [==============================] - 2s 18ms/step - loss: 0.6637 - accuracy: 0.8019 - val_loss: 0.8334 - val_accuracy: 0.7310\n",
            "Epoch 205/500\n",
            "115/115 [==============================] - 2s 18ms/step - loss: 0.6345 - accuracy: 0.7872 - val_loss: 0.8445 - val_accuracy: 0.7399\n",
            "Epoch 206/500\n",
            "115/115 [==============================] - 2s 18ms/step - loss: 0.6401 - accuracy: 0.7723 - val_loss: 0.8569 - val_accuracy: 0.7182\n",
            "Epoch 207/500\n",
            "115/115 [==============================] - 2s 19ms/step - loss: 0.6291 - accuracy: 0.7765 - val_loss: 0.8775 - val_accuracy: 0.7153\n",
            "Epoch 208/500\n",
            "115/115 [==============================] - 2s 19ms/step - loss: 0.6544 - accuracy: 0.7724 - val_loss: 0.9040 - val_accuracy: 0.6936\n",
            "Epoch 209/500\n",
            "115/115 [==============================] - 2s 19ms/step - loss: 0.6321 - accuracy: 0.7959 - val_loss: 0.8269 - val_accuracy: 0.7448\n",
            "Epoch 210/500\n",
            "115/115 [==============================] - 2s 19ms/step - loss: 0.6507 - accuracy: 0.7822 - val_loss: 0.8104 - val_accuracy: 0.7438\n",
            "Epoch 211/500\n",
            "115/115 [==============================] - 2s 19ms/step - loss: 0.6394 - accuracy: 0.7640 - val_loss: 0.8098 - val_accuracy: 0.7498\n",
            "Epoch 212/500\n",
            "115/115 [==============================] - 2s 18ms/step - loss: 0.6206 - accuracy: 0.7848 - val_loss: 0.8473 - val_accuracy: 0.7281\n",
            "Epoch 213/500\n",
            "115/115 [==============================] - 2s 19ms/step - loss: 0.6054 - accuracy: 0.7895 - val_loss: 0.8017 - val_accuracy: 0.7517\n",
            "Epoch 214/500\n",
            "115/115 [==============================] - 2s 19ms/step - loss: 0.6245 - accuracy: 0.7890 - val_loss: 0.8332 - val_accuracy: 0.7300\n",
            "Epoch 215/500\n",
            "115/115 [==============================] - 2s 19ms/step - loss: 0.5974 - accuracy: 0.8080 - val_loss: 0.8169 - val_accuracy: 0.7458\n",
            "Epoch 216/500\n",
            "115/115 [==============================] - 2s 20ms/step - loss: 0.5985 - accuracy: 0.8006 - val_loss: 0.8417 - val_accuracy: 0.7320\n",
            "Epoch 217/500\n",
            "115/115 [==============================] - 2s 19ms/step - loss: 0.6053 - accuracy: 0.8016 - val_loss: 0.8399 - val_accuracy: 0.7232\n",
            "Epoch 218/500\n",
            "115/115 [==============================] - 2s 19ms/step - loss: 0.5820 - accuracy: 0.8035 - val_loss: 0.7910 - val_accuracy: 0.7507\n",
            "Epoch 219/500\n",
            "115/115 [==============================] - 2s 19ms/step - loss: 0.6255 - accuracy: 0.7933 - val_loss: 0.8084 - val_accuracy: 0.7547\n",
            "Epoch 220/500\n",
            "115/115 [==============================] - 2s 19ms/step - loss: 0.5773 - accuracy: 0.7970 - val_loss: 0.8160 - val_accuracy: 0.7340\n",
            "Epoch 221/500\n",
            "115/115 [==============================] - 2s 19ms/step - loss: 0.6168 - accuracy: 0.7857 - val_loss: 0.8265 - val_accuracy: 0.7399\n",
            "Epoch 222/500\n",
            "115/115 [==============================] - 2s 20ms/step - loss: 0.6004 - accuracy: 0.8021 - val_loss: 0.8426 - val_accuracy: 0.7241\n",
            "Epoch 223/500\n",
            "115/115 [==============================] - 2s 19ms/step - loss: 0.6298 - accuracy: 0.7843 - val_loss: 0.8039 - val_accuracy: 0.7468\n",
            "Epoch 224/500\n",
            "115/115 [==============================] - 2s 19ms/step - loss: 0.5812 - accuracy: 0.8156 - val_loss: 0.7686 - val_accuracy: 0.7576\n",
            "Epoch 225/500\n",
            "115/115 [==============================] - 2s 19ms/step - loss: 0.5916 - accuracy: 0.7857 - val_loss: 0.7955 - val_accuracy: 0.7438\n",
            "Epoch 226/500\n",
            "115/115 [==============================] - 2s 19ms/step - loss: 0.5798 - accuracy: 0.7982 - val_loss: 0.7558 - val_accuracy: 0.7596\n",
            "Epoch 227/500\n",
            "115/115 [==============================] - 2s 19ms/step - loss: 0.6026 - accuracy: 0.7859 - val_loss: 0.8114 - val_accuracy: 0.7399\n",
            "Epoch 228/500\n",
            "115/115 [==============================] - 2s 19ms/step - loss: 0.6033 - accuracy: 0.7833 - val_loss: 0.7655 - val_accuracy: 0.7616\n",
            "Epoch 229/500\n",
            "115/115 [==============================] - 2s 19ms/step - loss: 0.5833 - accuracy: 0.8016 - val_loss: 0.7596 - val_accuracy: 0.7527\n",
            "Epoch 230/500\n",
            "115/115 [==============================] - 2s 20ms/step - loss: 0.5468 - accuracy: 0.8082 - val_loss: 0.7785 - val_accuracy: 0.7429\n",
            "Epoch 231/500\n",
            "115/115 [==============================] - 2s 18ms/step - loss: 0.5436 - accuracy: 0.8292 - val_loss: 0.7818 - val_accuracy: 0.7527\n",
            "Epoch 232/500\n",
            "115/115 [==============================] - 2s 19ms/step - loss: 0.5663 - accuracy: 0.8011 - val_loss: 0.7754 - val_accuracy: 0.7645\n",
            "Epoch 233/500\n",
            "115/115 [==============================] - 2s 20ms/step - loss: 0.5966 - accuracy: 0.7974 - val_loss: 0.7983 - val_accuracy: 0.7498\n",
            "Epoch 234/500\n",
            "115/115 [==============================] - 2s 18ms/step - loss: 0.5564 - accuracy: 0.8090 - val_loss: 0.7915 - val_accuracy: 0.7527\n",
            "Epoch 235/500\n",
            "115/115 [==============================] - 2s 18ms/step - loss: 0.5477 - accuracy: 0.8049 - val_loss: 0.7679 - val_accuracy: 0.7596\n",
            "Epoch 236/500\n",
            "115/115 [==============================] - 2s 19ms/step - loss: 0.5114 - accuracy: 0.8217 - val_loss: 0.7740 - val_accuracy: 0.7517\n",
            "Epoch 237/500\n",
            "115/115 [==============================] - 2s 19ms/step - loss: 0.5359 - accuracy: 0.8166 - val_loss: 0.7470 - val_accuracy: 0.7586\n",
            "Epoch 238/500\n",
            "115/115 [==============================] - 2s 19ms/step - loss: 0.5550 - accuracy: 0.8176 - val_loss: 0.7954 - val_accuracy: 0.7626\n",
            "Epoch 239/500\n",
            "115/115 [==============================] - 2s 19ms/step - loss: 0.5468 - accuracy: 0.8290 - val_loss: 0.7692 - val_accuracy: 0.7557\n",
            "Epoch 240/500\n",
            "115/115 [==============================] - 2s 19ms/step - loss: 0.4980 - accuracy: 0.8380 - val_loss: 0.7455 - val_accuracy: 0.7724\n",
            "Epoch 241/500\n",
            "115/115 [==============================] - 2s 18ms/step - loss: 0.5123 - accuracy: 0.8310 - val_loss: 0.7429 - val_accuracy: 0.7744\n",
            "Epoch 242/500\n",
            "115/115 [==============================] - 2s 19ms/step - loss: 0.5395 - accuracy: 0.8067 - val_loss: 0.7406 - val_accuracy: 0.7783\n",
            "Epoch 243/500\n",
            "115/115 [==============================] - 2s 19ms/step - loss: 0.5154 - accuracy: 0.8204 - val_loss: 0.7371 - val_accuracy: 0.7645\n",
            "Epoch 244/500\n",
            "115/115 [==============================] - 2s 19ms/step - loss: 0.5072 - accuracy: 0.8161 - val_loss: 0.7700 - val_accuracy: 0.7606\n",
            "Epoch 245/500\n",
            "115/115 [==============================] - 2s 20ms/step - loss: 0.5235 - accuracy: 0.8240 - val_loss: 0.7275 - val_accuracy: 0.7783\n",
            "Epoch 246/500\n",
            "115/115 [==============================] - 2s 19ms/step - loss: 0.5212 - accuracy: 0.8207 - val_loss: 0.7529 - val_accuracy: 0.7665\n",
            "Epoch 247/500\n",
            "115/115 [==============================] - 2s 19ms/step - loss: 0.4993 - accuracy: 0.8152 - val_loss: 0.7411 - val_accuracy: 0.7616\n",
            "Epoch 248/500\n",
            "115/115 [==============================] - 2s 18ms/step - loss: 0.5238 - accuracy: 0.8254 - val_loss: 0.7460 - val_accuracy: 0.7783\n",
            "Epoch 249/500\n",
            "115/115 [==============================] - 2s 19ms/step - loss: 0.5146 - accuracy: 0.8247 - val_loss: 0.7631 - val_accuracy: 0.7606\n",
            "Epoch 250/500\n",
            "115/115 [==============================] - 2s 19ms/step - loss: 0.4931 - accuracy: 0.8340 - val_loss: 0.7167 - val_accuracy: 0.7773\n",
            "Epoch 251/500\n",
            "115/115 [==============================] - 2s 20ms/step - loss: 0.4890 - accuracy: 0.8296 - val_loss: 0.7664 - val_accuracy: 0.7665\n",
            "Epoch 252/500\n",
            "115/115 [==============================] - 2s 19ms/step - loss: 0.4881 - accuracy: 0.8439 - val_loss: 0.7329 - val_accuracy: 0.7655\n",
            "Epoch 253/500\n",
            "115/115 [==============================] - 2s 19ms/step - loss: 0.5028 - accuracy: 0.8243 - val_loss: 0.7180 - val_accuracy: 0.7793\n",
            "Epoch 254/500\n",
            "115/115 [==============================] - 2s 18ms/step - loss: 0.5028 - accuracy: 0.8268 - val_loss: 0.7481 - val_accuracy: 0.7764\n",
            "Epoch 255/500\n",
            "115/115 [==============================] - 2s 19ms/step - loss: 0.4748 - accuracy: 0.8351 - val_loss: 0.7512 - val_accuracy: 0.7754\n",
            "Epoch 256/500\n",
            "115/115 [==============================] - 2s 18ms/step - loss: 0.5148 - accuracy: 0.8147 - val_loss: 0.7223 - val_accuracy: 0.7823\n",
            "Epoch 257/500\n",
            "115/115 [==============================] - 2s 19ms/step - loss: 0.4672 - accuracy: 0.8422 - val_loss: 0.7226 - val_accuracy: 0.7734\n",
            "Epoch 258/500\n",
            "115/115 [==============================] - 2s 19ms/step - loss: 0.4467 - accuracy: 0.8505 - val_loss: 0.7416 - val_accuracy: 0.7665\n",
            "Epoch 259/500\n",
            "115/115 [==============================] - 2s 19ms/step - loss: 0.5020 - accuracy: 0.8153 - val_loss: 0.7006 - val_accuracy: 0.7852\n",
            "Epoch 260/500\n",
            "115/115 [==============================] - 2s 19ms/step - loss: 0.4681 - accuracy: 0.8463 - val_loss: 0.7082 - val_accuracy: 0.7842\n",
            "Epoch 261/500\n",
            "115/115 [==============================] - 2s 19ms/step - loss: 0.4829 - accuracy: 0.8333 - val_loss: 0.7353 - val_accuracy: 0.7813\n",
            "Epoch 262/500\n",
            "115/115 [==============================] - 2s 19ms/step - loss: 0.4663 - accuracy: 0.8473 - val_loss: 0.7018 - val_accuracy: 0.7823\n",
            "Epoch 263/500\n",
            "115/115 [==============================] - 2s 19ms/step - loss: 0.4348 - accuracy: 0.8592 - val_loss: 0.7120 - val_accuracy: 0.7783\n",
            "Epoch 264/500\n",
            "115/115 [==============================] - 2s 19ms/step - loss: 0.5158 - accuracy: 0.8082 - val_loss: 0.6861 - val_accuracy: 0.7901\n",
            "Epoch 265/500\n",
            "115/115 [==============================] - 2s 19ms/step - loss: 0.4891 - accuracy: 0.8282 - val_loss: 0.7256 - val_accuracy: 0.7764\n",
            "Epoch 266/500\n",
            "115/115 [==============================] - 2s 20ms/step - loss: 0.4646 - accuracy: 0.8412 - val_loss: 0.6822 - val_accuracy: 0.7892\n",
            "Epoch 267/500\n",
            "115/115 [==============================] - 2s 19ms/step - loss: 0.4581 - accuracy: 0.8563 - val_loss: 0.7022 - val_accuracy: 0.7961\n",
            "Epoch 268/500\n",
            "115/115 [==============================] - 2s 19ms/step - loss: 0.4185 - accuracy: 0.8589 - val_loss: 0.7123 - val_accuracy: 0.7734\n",
            "Epoch 269/500\n",
            "115/115 [==============================] - 2s 19ms/step - loss: 0.4624 - accuracy: 0.8418 - val_loss: 0.6768 - val_accuracy: 0.7921\n",
            "Epoch 270/500\n",
            "115/115 [==============================] - 2s 19ms/step - loss: 0.4531 - accuracy: 0.8517 - val_loss: 0.6875 - val_accuracy: 0.7862\n",
            "Epoch 271/500\n",
            "115/115 [==============================] - 2s 20ms/step - loss: 0.4383 - accuracy: 0.8491 - val_loss: 0.7100 - val_accuracy: 0.7852\n",
            "Epoch 272/500\n",
            "115/115 [==============================] - 2s 21ms/step - loss: 0.4371 - accuracy: 0.8520 - val_loss: 0.7027 - val_accuracy: 0.7793\n",
            "Epoch 273/500\n",
            "115/115 [==============================] - 2s 20ms/step - loss: 0.4544 - accuracy: 0.8470 - val_loss: 0.7034 - val_accuracy: 0.7911\n",
            "Epoch 274/500\n",
            "115/115 [==============================] - 2s 20ms/step - loss: 0.4369 - accuracy: 0.8441 - val_loss: 0.6840 - val_accuracy: 0.7892\n",
            "Epoch 275/500\n",
            "115/115 [==============================] - 2s 19ms/step - loss: 0.4616 - accuracy: 0.8508 - val_loss: 0.6931 - val_accuracy: 0.7813\n",
            "Epoch 276/500\n",
            "115/115 [==============================] - 2s 20ms/step - loss: 0.4199 - accuracy: 0.8649 - val_loss: 0.7113 - val_accuracy: 0.7803\n",
            "Epoch 277/500\n",
            "115/115 [==============================] - 2s 19ms/step - loss: 0.4490 - accuracy: 0.8376 - val_loss: 0.6632 - val_accuracy: 0.7901\n",
            "Epoch 278/500\n",
            "115/115 [==============================] - 2s 19ms/step - loss: 0.4583 - accuracy: 0.8436 - val_loss: 0.6937 - val_accuracy: 0.7901\n",
            "Epoch 279/500\n",
            "115/115 [==============================] - 2s 19ms/step - loss: 0.4057 - accuracy: 0.8610 - val_loss: 0.6922 - val_accuracy: 0.7980\n",
            "Epoch 280/500\n",
            "115/115 [==============================] - 2s 19ms/step - loss: 0.4338 - accuracy: 0.8534 - val_loss: 0.7048 - val_accuracy: 0.7872\n",
            "Epoch 281/500\n",
            "115/115 [==============================] - 2s 19ms/step - loss: 0.4300 - accuracy: 0.8454 - val_loss: 0.6779 - val_accuracy: 0.7931\n",
            "Epoch 282/500\n",
            "115/115 [==============================] - 2s 19ms/step - loss: 0.3936 - accuracy: 0.8676 - val_loss: 0.6747 - val_accuracy: 0.7951\n",
            "Epoch 283/500\n",
            "115/115 [==============================] - 2s 20ms/step - loss: 0.4210 - accuracy: 0.8593 - val_loss: 0.6870 - val_accuracy: 0.7901\n",
            "Epoch 284/500\n",
            "115/115 [==============================] - 2s 20ms/step - loss: 0.3733 - accuracy: 0.8707 - val_loss: 0.6869 - val_accuracy: 0.7961\n",
            "Epoch 285/500\n",
            "115/115 [==============================] - 2s 20ms/step - loss: 0.4059 - accuracy: 0.8604 - val_loss: 0.6954 - val_accuracy: 0.7892\n",
            "Epoch 286/500\n",
            "115/115 [==============================] - 2s 19ms/step - loss: 0.3833 - accuracy: 0.8636 - val_loss: 0.6601 - val_accuracy: 0.8039\n",
            "Epoch 287/500\n",
            "115/115 [==============================] - 2s 19ms/step - loss: 0.4045 - accuracy: 0.8707 - val_loss: 0.6607 - val_accuracy: 0.7941\n",
            "Epoch 288/500\n",
            "115/115 [==============================] - 2s 21ms/step - loss: 0.3810 - accuracy: 0.8793 - val_loss: 0.6696 - val_accuracy: 0.8010\n",
            "Epoch 289/500\n",
            "115/115 [==============================] - 2s 20ms/step - loss: 0.4345 - accuracy: 0.8427 - val_loss: 0.6560 - val_accuracy: 0.8000\n",
            "Epoch 290/500\n",
            "115/115 [==============================] - 2s 20ms/step - loss: 0.4090 - accuracy: 0.8730 - val_loss: 0.6612 - val_accuracy: 0.8138\n",
            "Epoch 291/500\n",
            "115/115 [==============================] - 2s 19ms/step - loss: 0.3893 - accuracy: 0.8602 - val_loss: 0.6612 - val_accuracy: 0.8197\n",
            "Epoch 292/500\n",
            "115/115 [==============================] - 2s 19ms/step - loss: 0.3941 - accuracy: 0.8650 - val_loss: 0.6527 - val_accuracy: 0.8128\n",
            "Epoch 293/500\n",
            "115/115 [==============================] - 2s 19ms/step - loss: 0.4099 - accuracy: 0.8760 - val_loss: 0.6518 - val_accuracy: 0.8108\n",
            "Epoch 294/500\n",
            "115/115 [==============================] - 2s 19ms/step - loss: 0.3901 - accuracy: 0.8771 - val_loss: 0.6343 - val_accuracy: 0.8049\n",
            "Epoch 295/500\n",
            "115/115 [==============================] - 2s 19ms/step - loss: 0.3951 - accuracy: 0.8599 - val_loss: 0.6476 - val_accuracy: 0.8069\n",
            "Epoch 296/500\n",
            "115/115 [==============================] - 2s 19ms/step - loss: 0.3637 - accuracy: 0.8855 - val_loss: 0.6600 - val_accuracy: 0.8187\n",
            "Epoch 297/500\n",
            "115/115 [==============================] - 2s 19ms/step - loss: 0.3806 - accuracy: 0.8710 - val_loss: 0.6508 - val_accuracy: 0.8128\n",
            "Epoch 298/500\n",
            "115/115 [==============================] - 2s 20ms/step - loss: 0.3980 - accuracy: 0.8691 - val_loss: 0.6609 - val_accuracy: 0.8069\n",
            "Epoch 299/500\n",
            "115/115 [==============================] - 2s 21ms/step - loss: 0.3874 - accuracy: 0.8668 - val_loss: 0.6354 - val_accuracy: 0.8217\n",
            "Epoch 300/500\n",
            "115/115 [==============================] - 2s 21ms/step - loss: 0.3695 - accuracy: 0.8805 - val_loss: 0.6279 - val_accuracy: 0.8227\n",
            "Epoch 301/500\n",
            "115/115 [==============================] - 2s 19ms/step - loss: 0.3739 - accuracy: 0.8775 - val_loss: 0.6481 - val_accuracy: 0.8148\n",
            "Epoch 302/500\n",
            "115/115 [==============================] - 2s 19ms/step - loss: 0.4014 - accuracy: 0.8648 - val_loss: 0.6493 - val_accuracy: 0.7990\n",
            "Epoch 303/500\n",
            "115/115 [==============================] - 2s 19ms/step - loss: 0.3499 - accuracy: 0.8801 - val_loss: 0.6659 - val_accuracy: 0.8010\n",
            "Epoch 304/500\n",
            "115/115 [==============================] - 2s 19ms/step - loss: 0.3690 - accuracy: 0.8801 - val_loss: 0.6591 - val_accuracy: 0.8069\n",
            "Epoch 305/500\n",
            "115/115 [==============================] - 2s 19ms/step - loss: 0.3424 - accuracy: 0.8794 - val_loss: 0.6390 - val_accuracy: 0.8128\n",
            "Epoch 306/500\n",
            "115/115 [==============================] - 2s 20ms/step - loss: 0.3832 - accuracy: 0.8666 - val_loss: 0.6493 - val_accuracy: 0.8039\n",
            "Epoch 307/500\n",
            "115/115 [==============================] - 2s 19ms/step - loss: 0.3780 - accuracy: 0.8641 - val_loss: 0.6199 - val_accuracy: 0.8197\n",
            "Epoch 308/500\n",
            "115/115 [==============================] - 2s 19ms/step - loss: 0.3502 - accuracy: 0.8853 - val_loss: 0.6243 - val_accuracy: 0.8236\n",
            "Epoch 309/500\n",
            "115/115 [==============================] - 2s 19ms/step - loss: 0.3628 - accuracy: 0.8747 - val_loss: 0.6128 - val_accuracy: 0.8315\n",
            "Epoch 310/500\n",
            "115/115 [==============================] - 2s 20ms/step - loss: 0.3362 - accuracy: 0.8899 - val_loss: 0.6093 - val_accuracy: 0.8276\n",
            "Epoch 311/500\n",
            "115/115 [==============================] - 2s 21ms/step - loss: 0.3648 - accuracy: 0.8732 - val_loss: 0.6175 - val_accuracy: 0.8197\n",
            "Epoch 312/500\n",
            "115/115 [==============================] - 2s 20ms/step - loss: 0.3729 - accuracy: 0.8748 - val_loss: 0.6152 - val_accuracy: 0.8217\n",
            "Epoch 313/500\n",
            "115/115 [==============================] - 2s 20ms/step - loss: 0.3561 - accuracy: 0.8734 - val_loss: 0.6348 - val_accuracy: 0.8108\n",
            "Epoch 314/500\n",
            "115/115 [==============================] - 2s 19ms/step - loss: 0.3418 - accuracy: 0.8830 - val_loss: 0.6391 - val_accuracy: 0.8177\n",
            "Epoch 315/500\n",
            "115/115 [==============================] - 2s 19ms/step - loss: 0.3731 - accuracy: 0.8801 - val_loss: 0.6100 - val_accuracy: 0.8227\n",
            "Epoch 316/500\n",
            "115/115 [==============================] - 2s 19ms/step - loss: 0.3554 - accuracy: 0.8788 - val_loss: 0.6102 - val_accuracy: 0.8227\n",
            "Epoch 317/500\n",
            "115/115 [==============================] - 2s 19ms/step - loss: 0.3616 - accuracy: 0.8769 - val_loss: 0.6086 - val_accuracy: 0.8246\n",
            "Epoch 318/500\n",
            "115/115 [==============================] - 2s 19ms/step - loss: 0.3383 - accuracy: 0.8946 - val_loss: 0.6141 - val_accuracy: 0.8227\n",
            "Epoch 319/500\n",
            "115/115 [==============================] - 2s 20ms/step - loss: 0.3505 - accuracy: 0.8882 - val_loss: 0.6313 - val_accuracy: 0.8118\n",
            "Epoch 320/500\n",
            "115/115 [==============================] - 2s 20ms/step - loss: 0.3626 - accuracy: 0.8813 - val_loss: 0.6547 - val_accuracy: 0.8167\n",
            "Epoch 321/500\n",
            "115/115 [==============================] - 2s 20ms/step - loss: 0.3450 - accuracy: 0.8806 - val_loss: 0.6158 - val_accuracy: 0.8355\n",
            "Epoch 322/500\n",
            "115/115 [==============================] - 2s 20ms/step - loss: 0.3485 - accuracy: 0.8856 - val_loss: 0.6242 - val_accuracy: 0.8305\n",
            "Epoch 323/500\n",
            "115/115 [==============================] - 2s 20ms/step - loss: 0.3744 - accuracy: 0.8783 - val_loss: 0.5901 - val_accuracy: 0.8305\n",
            "Epoch 324/500\n",
            "115/115 [==============================] - 2s 20ms/step - loss: 0.3317 - accuracy: 0.8988 - val_loss: 0.6017 - val_accuracy: 0.8394\n",
            "Epoch 325/500\n",
            "115/115 [==============================] - 2s 21ms/step - loss: 0.3312 - accuracy: 0.8765 - val_loss: 0.6182 - val_accuracy: 0.8236\n",
            "Epoch 326/500\n",
            "115/115 [==============================] - 2s 19ms/step - loss: 0.3386 - accuracy: 0.8856 - val_loss: 0.6529 - val_accuracy: 0.8128\n",
            "Epoch 327/500\n",
            "115/115 [==============================] - 2s 19ms/step - loss: 0.3368 - accuracy: 0.8954 - val_loss: 0.5935 - val_accuracy: 0.8335\n",
            "Epoch 328/500\n",
            "115/115 [==============================] - 2s 19ms/step - loss: 0.3323 - accuracy: 0.8906 - val_loss: 0.5997 - val_accuracy: 0.8325\n",
            "Epoch 329/500\n",
            "115/115 [==============================] - 2s 20ms/step - loss: 0.3109 - accuracy: 0.9040 - val_loss: 0.6920 - val_accuracy: 0.7990\n",
            "Epoch 330/500\n",
            "115/115 [==============================] - 2s 19ms/step - loss: 0.3457 - accuracy: 0.8917 - val_loss: 0.6063 - val_accuracy: 0.8365\n",
            "Epoch 331/500\n",
            "115/115 [==============================] - 2s 20ms/step - loss: 0.3030 - accuracy: 0.8914 - val_loss: 0.6002 - val_accuracy: 0.8305\n",
            "Epoch 332/500\n",
            "115/115 [==============================] - 2s 19ms/step - loss: 0.3387 - accuracy: 0.8960 - val_loss: 0.6079 - val_accuracy: 0.8276\n",
            "Epoch 333/500\n",
            "115/115 [==============================] - 2s 20ms/step - loss: 0.3295 - accuracy: 0.8881 - val_loss: 0.5901 - val_accuracy: 0.8296\n",
            "Epoch 334/500\n",
            "115/115 [==============================] - 2s 21ms/step - loss: 0.2969 - accuracy: 0.9012 - val_loss: 0.5868 - val_accuracy: 0.8365\n",
            "Epoch 335/500\n",
            "115/115 [==============================] - 2s 19ms/step - loss: 0.3504 - accuracy: 0.8732 - val_loss: 0.6018 - val_accuracy: 0.8315\n",
            "Epoch 336/500\n",
            "115/115 [==============================] - 2s 19ms/step - loss: 0.3381 - accuracy: 0.8925 - val_loss: 0.6622 - val_accuracy: 0.8256\n",
            "Epoch 337/500\n",
            "115/115 [==============================] - 2s 20ms/step - loss: 0.3247 - accuracy: 0.8875 - val_loss: 0.5971 - val_accuracy: 0.8305\n",
            "Epoch 338/500\n",
            "115/115 [==============================] - 2s 20ms/step - loss: 0.3056 - accuracy: 0.8978 - val_loss: 0.6127 - val_accuracy: 0.8355\n",
            "Epoch 339/500\n",
            "115/115 [==============================] - 2s 20ms/step - loss: 0.3372 - accuracy: 0.8888 - val_loss: 0.5989 - val_accuracy: 0.8305\n",
            "Epoch 340/500\n",
            "115/115 [==============================] - 2s 19ms/step - loss: 0.3106 - accuracy: 0.8932 - val_loss: 0.5981 - val_accuracy: 0.8236\n",
            "Epoch 341/500\n",
            "115/115 [==============================] - 2s 19ms/step - loss: 0.2986 - accuracy: 0.9041 - val_loss: 0.5952 - val_accuracy: 0.8325\n",
            "Epoch 342/500\n",
            "115/115 [==============================] - 2s 19ms/step - loss: 0.2972 - accuracy: 0.8998 - val_loss: 0.5914 - val_accuracy: 0.8286\n",
            "Epoch 343/500\n",
            "115/115 [==============================] - 2s 19ms/step - loss: 0.2941 - accuracy: 0.8999 - val_loss: 0.5833 - val_accuracy: 0.8236\n",
            "Epoch 344/500\n",
            "115/115 [==============================] - 2s 19ms/step - loss: 0.2962 - accuracy: 0.8964 - val_loss: 0.5668 - val_accuracy: 0.8433\n",
            "Epoch 345/500\n",
            "115/115 [==============================] - 2s 19ms/step - loss: 0.3364 - accuracy: 0.8847 - val_loss: 0.5674 - val_accuracy: 0.8433\n",
            "Epoch 346/500\n",
            "115/115 [==============================] - 2s 19ms/step - loss: 0.2789 - accuracy: 0.9087 - val_loss: 0.5667 - val_accuracy: 0.8266\n",
            "Epoch 347/500\n",
            "115/115 [==============================] - 2s 20ms/step - loss: 0.2871 - accuracy: 0.9060 - val_loss: 0.5873 - val_accuracy: 0.8355\n",
            "Epoch 348/500\n",
            "115/115 [==============================] - 2s 19ms/step - loss: 0.3117 - accuracy: 0.8982 - val_loss: 0.5903 - val_accuracy: 0.8433\n",
            "Epoch 349/500\n",
            "115/115 [==============================] - 2s 19ms/step - loss: 0.3066 - accuracy: 0.8987 - val_loss: 0.5857 - val_accuracy: 0.8335\n",
            "Epoch 350/500\n",
            "115/115 [==============================] - 2s 19ms/step - loss: 0.3146 - accuracy: 0.8990 - val_loss: 0.5726 - val_accuracy: 0.8365\n",
            "Epoch 351/500\n",
            "115/115 [==============================] - 2s 19ms/step - loss: 0.3140 - accuracy: 0.8956 - val_loss: 0.5766 - val_accuracy: 0.8453\n",
            "Epoch 352/500\n",
            "115/115 [==============================] - 2s 19ms/step - loss: 0.2901 - accuracy: 0.9107 - val_loss: 0.5858 - val_accuracy: 0.8404\n",
            "Epoch 353/500\n",
            "115/115 [==============================] - 2s 19ms/step - loss: 0.2982 - accuracy: 0.9028 - val_loss: 0.5953 - val_accuracy: 0.8365\n",
            "Epoch 354/500\n",
            "115/115 [==============================] - 2s 19ms/step - loss: 0.2690 - accuracy: 0.9132 - val_loss: 0.6169 - val_accuracy: 0.8276\n",
            "Epoch 355/500\n",
            "115/115 [==============================] - 2s 19ms/step - loss: 0.2926 - accuracy: 0.9077 - val_loss: 0.5796 - val_accuracy: 0.8404\n",
            "Epoch 356/500\n",
            "115/115 [==============================] - 2s 19ms/step - loss: 0.2655 - accuracy: 0.9194 - val_loss: 0.5819 - val_accuracy: 0.8443\n",
            "Epoch 357/500\n",
            "115/115 [==============================] - 2s 19ms/step - loss: 0.2838 - accuracy: 0.9130 - val_loss: 0.5959 - val_accuracy: 0.8384\n",
            "Epoch 358/500\n",
            "115/115 [==============================] - 2s 20ms/step - loss: 0.2766 - accuracy: 0.9103 - val_loss: 0.5890 - val_accuracy: 0.8335\n",
            "Epoch 359/500\n",
            "115/115 [==============================] - 2s 20ms/step - loss: 0.2842 - accuracy: 0.9077 - val_loss: 0.5994 - val_accuracy: 0.8433\n",
            "Epoch 360/500\n",
            "115/115 [==============================] - 2s 19ms/step - loss: 0.2707 - accuracy: 0.9184 - val_loss: 0.5737 - val_accuracy: 0.8463\n",
            "Epoch 361/500\n",
            "115/115 [==============================] - 2s 19ms/step - loss: 0.2849 - accuracy: 0.9133 - val_loss: 0.5622 - val_accuracy: 0.8453\n",
            "Epoch 362/500\n",
            "115/115 [==============================] - 2s 20ms/step - loss: 0.2684 - accuracy: 0.9070 - val_loss: 0.5512 - val_accuracy: 0.8522\n",
            "Epoch 363/500\n",
            "115/115 [==============================] - 2s 19ms/step - loss: 0.2586 - accuracy: 0.9272 - val_loss: 0.5622 - val_accuracy: 0.8483\n",
            "Epoch 364/500\n",
            "115/115 [==============================] - 2s 20ms/step - loss: 0.2563 - accuracy: 0.9179 - val_loss: 0.5629 - val_accuracy: 0.8453\n",
            "Epoch 365/500\n",
            "115/115 [==============================] - 2s 19ms/step - loss: 0.2352 - accuracy: 0.9282 - val_loss: 0.5965 - val_accuracy: 0.8335\n",
            "Epoch 366/500\n",
            "115/115 [==============================] - 2s 19ms/step - loss: 0.2562 - accuracy: 0.9141 - val_loss: 0.6333 - val_accuracy: 0.8266\n",
            "Epoch 367/500\n",
            "115/115 [==============================] - 2s 20ms/step - loss: 0.2759 - accuracy: 0.9057 - val_loss: 0.5696 - val_accuracy: 0.8404\n",
            "Epoch 368/500\n",
            "115/115 [==============================] - 2s 19ms/step - loss: 0.2565 - accuracy: 0.9162 - val_loss: 0.5796 - val_accuracy: 0.8374\n",
            "Epoch 369/500\n",
            "115/115 [==============================] - 2s 20ms/step - loss: 0.2799 - accuracy: 0.9076 - val_loss: 0.5517 - val_accuracy: 0.8601\n",
            "Epoch 370/500\n",
            "115/115 [==============================] - 2s 20ms/step - loss: 0.2623 - accuracy: 0.9151 - val_loss: 0.5766 - val_accuracy: 0.8394\n",
            "Epoch 371/500\n",
            "115/115 [==============================] - 2s 20ms/step - loss: 0.2691 - accuracy: 0.9199 - val_loss: 0.5778 - val_accuracy: 0.8384\n",
            "Epoch 372/500\n",
            "115/115 [==============================] - 2s 20ms/step - loss: 0.2799 - accuracy: 0.9051 - val_loss: 0.5930 - val_accuracy: 0.8365\n",
            "Epoch 373/500\n",
            "115/115 [==============================] - 2s 20ms/step - loss: 0.2770 - accuracy: 0.9112 - val_loss: 0.5511 - val_accuracy: 0.8552\n",
            "Epoch 374/500\n",
            "115/115 [==============================] - 2s 20ms/step - loss: 0.2546 - accuracy: 0.9150 - val_loss: 0.5797 - val_accuracy: 0.8404\n",
            "Epoch 375/500\n",
            "115/115 [==============================] - 2s 20ms/step - loss: 0.2762 - accuracy: 0.9067 - val_loss: 0.5604 - val_accuracy: 0.8463\n",
            "Epoch 376/500\n",
            "115/115 [==============================] - 2s 20ms/step - loss: 0.2746 - accuracy: 0.8942 - val_loss: 0.5437 - val_accuracy: 0.8552\n",
            "Epoch 377/500\n",
            "115/115 [==============================] - 2s 19ms/step - loss: 0.2601 - accuracy: 0.9183 - val_loss: 0.5535 - val_accuracy: 0.8650\n",
            "Epoch 378/500\n",
            "115/115 [==============================] - 2s 21ms/step - loss: 0.2602 - accuracy: 0.9136 - val_loss: 0.5645 - val_accuracy: 0.8483\n",
            "Epoch 379/500\n",
            "115/115 [==============================] - 2s 20ms/step - loss: 0.2499 - accuracy: 0.9143 - val_loss: 0.5742 - val_accuracy: 0.8473\n",
            "Epoch 380/500\n",
            "115/115 [==============================] - 2s 20ms/step - loss: 0.2514 - accuracy: 0.9168 - val_loss: 0.5528 - val_accuracy: 0.8601\n",
            "Epoch 381/500\n",
            "115/115 [==============================] - 2s 20ms/step - loss: 0.2391 - accuracy: 0.9185 - val_loss: 0.5470 - val_accuracy: 0.8453\n",
            "Epoch 382/500\n",
            "115/115 [==============================] - 2s 20ms/step - loss: 0.2476 - accuracy: 0.9128 - val_loss: 0.5484 - val_accuracy: 0.8404\n",
            "Epoch 383/500\n",
            "115/115 [==============================] - 2s 20ms/step - loss: 0.2072 - accuracy: 0.9385 - val_loss: 0.5791 - val_accuracy: 0.8483\n",
            "Epoch 384/500\n",
            "115/115 [==============================] - 2s 20ms/step - loss: 0.2599 - accuracy: 0.9093 - val_loss: 0.5628 - val_accuracy: 0.8581\n",
            "Epoch 385/500\n",
            "115/115 [==============================] - 2s 20ms/step - loss: 0.2413 - accuracy: 0.9219 - val_loss: 0.5578 - val_accuracy: 0.8512\n",
            "Epoch 386/500\n",
            "115/115 [==============================] - 2s 20ms/step - loss: 0.2409 - accuracy: 0.9278 - val_loss: 0.5380 - val_accuracy: 0.8621\n",
            "Epoch 387/500\n",
            "115/115 [==============================] - 2s 19ms/step - loss: 0.2285 - accuracy: 0.9331 - val_loss: 0.5695 - val_accuracy: 0.8463\n",
            "Epoch 388/500\n",
            "115/115 [==============================] - 2s 21ms/step - loss: 0.2344 - accuracy: 0.9335 - val_loss: 0.5613 - val_accuracy: 0.8404\n",
            "Epoch 389/500\n",
            "115/115 [==============================] - 2s 20ms/step - loss: 0.2302 - accuracy: 0.9227 - val_loss: 0.5541 - val_accuracy: 0.8571\n",
            "Epoch 390/500\n",
            "115/115 [==============================] - 2s 20ms/step - loss: 0.2358 - accuracy: 0.9220 - val_loss: 0.5664 - val_accuracy: 0.8591\n",
            "Epoch 391/500\n",
            "115/115 [==============================] - 2s 20ms/step - loss: 0.2279 - accuracy: 0.9275 - val_loss: 0.5451 - val_accuracy: 0.8601\n",
            "Epoch 392/500\n",
            "115/115 [==============================] - 2s 20ms/step - loss: 0.2257 - accuracy: 0.9283 - val_loss: 0.5509 - val_accuracy: 0.8562\n",
            "Epoch 393/500\n",
            "115/115 [==============================] - 2s 20ms/step - loss: 0.2441 - accuracy: 0.9198 - val_loss: 0.5750 - val_accuracy: 0.8542\n",
            "Epoch 394/500\n",
            "115/115 [==============================] - 2s 20ms/step - loss: 0.2171 - accuracy: 0.9382 - val_loss: 0.5335 - val_accuracy: 0.8660\n",
            "Epoch 395/500\n",
            "115/115 [==============================] - 2s 20ms/step - loss: 0.2168 - accuracy: 0.9234 - val_loss: 0.5583 - val_accuracy: 0.8591\n",
            "Epoch 396/500\n",
            "115/115 [==============================] - 2s 20ms/step - loss: 0.2779 - accuracy: 0.9051 - val_loss: 0.5425 - val_accuracy: 0.8591\n",
            "Epoch 397/500\n",
            "115/115 [==============================] - 2s 21ms/step - loss: 0.2423 - accuracy: 0.9106 - val_loss: 0.5380 - val_accuracy: 0.8552\n",
            "Epoch 398/500\n",
            "115/115 [==============================] - 2s 20ms/step - loss: 0.2072 - accuracy: 0.9438 - val_loss: 0.5321 - val_accuracy: 0.8749\n",
            "Epoch 399/500\n",
            "115/115 [==============================] - 2s 20ms/step - loss: 0.2468 - accuracy: 0.9195 - val_loss: 0.5767 - val_accuracy: 0.8384\n",
            "Epoch 400/500\n",
            "115/115 [==============================] - 2s 20ms/step - loss: 0.2492 - accuracy: 0.9171 - val_loss: 0.5406 - val_accuracy: 0.8571\n",
            "Epoch 401/500\n",
            "115/115 [==============================] - 2s 20ms/step - loss: 0.2499 - accuracy: 0.9080 - val_loss: 0.5363 - val_accuracy: 0.8601\n",
            "Epoch 402/500\n",
            "115/115 [==============================] - 2s 19ms/step - loss: 0.2188 - accuracy: 0.9281 - val_loss: 0.5298 - val_accuracy: 0.8650\n",
            "Epoch 403/500\n",
            "115/115 [==============================] - 2s 20ms/step - loss: 0.2048 - accuracy: 0.9367 - val_loss: 0.5307 - val_accuracy: 0.8660\n",
            "Epoch 404/500\n",
            "115/115 [==============================] - 2s 19ms/step - loss: 0.2316 - accuracy: 0.9241 - val_loss: 0.5484 - val_accuracy: 0.8502\n",
            "Epoch 405/500\n",
            "115/115 [==============================] - 2s 20ms/step - loss: 0.2245 - accuracy: 0.9237 - val_loss: 0.5419 - val_accuracy: 0.8473\n",
            "Epoch 406/500\n",
            "115/115 [==============================] - 2s 19ms/step - loss: 0.2274 - accuracy: 0.9282 - val_loss: 0.5466 - val_accuracy: 0.8493\n",
            "Epoch 407/500\n",
            "115/115 [==============================] - 2s 20ms/step - loss: 0.2206 - accuracy: 0.9280 - val_loss: 0.5392 - val_accuracy: 0.8631\n",
            "Epoch 408/500\n",
            "115/115 [==============================] - 2s 20ms/step - loss: 0.2255 - accuracy: 0.9265 - val_loss: 0.5350 - val_accuracy: 0.8601\n",
            "Epoch 409/500\n",
            "115/115 [==============================] - 2s 19ms/step - loss: 0.2166 - accuracy: 0.9279 - val_loss: 0.5115 - val_accuracy: 0.8640\n",
            "Epoch 410/500\n",
            "115/115 [==============================] - 2s 19ms/step - loss: 0.2059 - accuracy: 0.9389 - val_loss: 0.5466 - val_accuracy: 0.8571\n",
            "Epoch 411/500\n",
            "115/115 [==============================] - 2s 19ms/step - loss: 0.2009 - accuracy: 0.9401 - val_loss: 0.5329 - val_accuracy: 0.8562\n",
            "Epoch 412/500\n",
            "115/115 [==============================] - 2s 20ms/step - loss: 0.2157 - accuracy: 0.9318 - val_loss: 0.5311 - val_accuracy: 0.8591\n",
            "Epoch 413/500\n",
            "115/115 [==============================] - 2s 20ms/step - loss: 0.2520 - accuracy: 0.9122 - val_loss: 0.5792 - val_accuracy: 0.8443\n",
            "Epoch 414/500\n",
            "115/115 [==============================] - 2s 20ms/step - loss: 0.1966 - accuracy: 0.9388 - val_loss: 0.5747 - val_accuracy: 0.8493\n",
            "Epoch 415/500\n",
            "115/115 [==============================] - 2s 20ms/step - loss: 0.2211 - accuracy: 0.9262 - val_loss: 0.5490 - val_accuracy: 0.8660\n",
            "Epoch 416/500\n",
            "115/115 [==============================] - 2s 19ms/step - loss: 0.2203 - accuracy: 0.9289 - val_loss: 0.5528 - val_accuracy: 0.8493\n",
            "Epoch 417/500\n",
            "115/115 [==============================] - 2s 20ms/step - loss: 0.1967 - accuracy: 0.9400 - val_loss: 0.5522 - val_accuracy: 0.8502\n",
            "Epoch 418/500\n",
            "115/115 [==============================] - 2s 21ms/step - loss: 0.2342 - accuracy: 0.9255 - val_loss: 0.5066 - val_accuracy: 0.8621\n",
            "Epoch 419/500\n",
            "115/115 [==============================] - 2s 20ms/step - loss: 0.1970 - accuracy: 0.9365 - val_loss: 0.5726 - val_accuracy: 0.8621\n",
            "Epoch 420/500\n",
            "115/115 [==============================] - 2s 20ms/step - loss: 0.2212 - accuracy: 0.9249 - val_loss: 0.5283 - val_accuracy: 0.8532\n",
            "Epoch 421/500\n",
            "115/115 [==============================] - 2s 20ms/step - loss: 0.1795 - accuracy: 0.9480 - val_loss: 0.5467 - val_accuracy: 0.8611\n",
            "Epoch 422/500\n",
            "115/115 [==============================] - 2s 19ms/step - loss: 0.2109 - accuracy: 0.9235 - val_loss: 0.5298 - val_accuracy: 0.8660\n",
            "Epoch 423/500\n",
            "115/115 [==============================] - 2s 20ms/step - loss: 0.1858 - accuracy: 0.9346 - val_loss: 0.5082 - val_accuracy: 0.8631\n",
            "Epoch 424/500\n",
            "115/115 [==============================] - 2s 20ms/step - loss: 0.2431 - accuracy: 0.9249 - val_loss: 0.5835 - val_accuracy: 0.8571\n",
            "Epoch 425/500\n",
            "115/115 [==============================] - 2s 20ms/step - loss: 0.2016 - accuracy: 0.9326 - val_loss: 0.5171 - val_accuracy: 0.8690\n",
            "Epoch 426/500\n",
            "115/115 [==============================] - 2s 20ms/step - loss: 0.2078 - accuracy: 0.9313 - val_loss: 0.5437 - val_accuracy: 0.8640\n",
            "Epoch 427/500\n",
            "115/115 [==============================] - 2s 20ms/step - loss: 0.2009 - accuracy: 0.9385 - val_loss: 0.5247 - val_accuracy: 0.8631\n",
            "Epoch 428/500\n",
            "115/115 [==============================] - 2s 20ms/step - loss: 0.1801 - accuracy: 0.9482 - val_loss: 0.5373 - val_accuracy: 0.8690\n",
            "Epoch 429/500\n",
            "115/115 [==============================] - 2s 20ms/step - loss: 0.2093 - accuracy: 0.9304 - val_loss: 0.5421 - val_accuracy: 0.8522\n",
            "Epoch 430/500\n",
            "115/115 [==============================] - 2s 20ms/step - loss: 0.2179 - accuracy: 0.9364 - val_loss: 0.5565 - val_accuracy: 0.8591\n",
            "Epoch 431/500\n",
            "115/115 [==============================] - 2s 20ms/step - loss: 0.1936 - accuracy: 0.9455 - val_loss: 0.5635 - val_accuracy: 0.8591\n",
            "Epoch 432/500\n",
            "115/115 [==============================] - 2s 20ms/step - loss: 0.2109 - accuracy: 0.9261 - val_loss: 0.5118 - val_accuracy: 0.8621\n",
            "Epoch 433/500\n",
            "115/115 [==============================] - 2s 20ms/step - loss: 0.2043 - accuracy: 0.9364 - val_loss: 0.5182 - val_accuracy: 0.8571\n",
            "Epoch 434/500\n",
            "115/115 [==============================] - 2s 20ms/step - loss: 0.1838 - accuracy: 0.9401 - val_loss: 0.5252 - val_accuracy: 0.8611\n",
            "Epoch 435/500\n",
            "115/115 [==============================] - 2s 20ms/step - loss: 0.1812 - accuracy: 0.9447 - val_loss: 0.5432 - val_accuracy: 0.8631\n",
            "Epoch 436/500\n",
            "115/115 [==============================] - 2s 20ms/step - loss: 0.2151 - accuracy: 0.9353 - val_loss: 0.5576 - val_accuracy: 0.8591\n",
            "Epoch 437/500\n",
            "115/115 [==============================] - 2s 20ms/step - loss: 0.2128 - accuracy: 0.9244 - val_loss: 0.5058 - val_accuracy: 0.8749\n",
            "Epoch 438/500\n",
            "115/115 [==============================] - 2s 20ms/step - loss: 0.2141 - accuracy: 0.9225 - val_loss: 0.5104 - val_accuracy: 0.8749\n",
            "Epoch 439/500\n",
            "115/115 [==============================] - 2s 20ms/step - loss: 0.2003 - accuracy: 0.9405 - val_loss: 0.5200 - val_accuracy: 0.8611\n",
            "Epoch 440/500\n",
            "115/115 [==============================] - 2s 21ms/step - loss: 0.1866 - accuracy: 0.9443 - val_loss: 0.5252 - val_accuracy: 0.8670\n",
            "Epoch 441/500\n",
            "115/115 [==============================] - 2s 20ms/step - loss: 0.1952 - accuracy: 0.9429 - val_loss: 0.5541 - val_accuracy: 0.8690\n",
            "Epoch 442/500\n",
            "115/115 [==============================] - 2s 21ms/step - loss: 0.2185 - accuracy: 0.9243 - val_loss: 0.5197 - val_accuracy: 0.8749\n",
            "Epoch 443/500\n",
            "115/115 [==============================] - 2s 20ms/step - loss: 0.1749 - accuracy: 0.9407 - val_loss: 0.5397 - val_accuracy: 0.8650\n",
            "Epoch 444/500\n",
            "115/115 [==============================] - 2s 20ms/step - loss: 0.1846 - accuracy: 0.9369 - val_loss: 0.5144 - val_accuracy: 0.8759\n",
            "Epoch 445/500\n",
            "115/115 [==============================] - 2s 20ms/step - loss: 0.1766 - accuracy: 0.9403 - val_loss: 0.5125 - val_accuracy: 0.8749\n",
            "Epoch 446/500\n",
            "115/115 [==============================] - 2s 20ms/step - loss: 0.2011 - accuracy: 0.9442 - val_loss: 0.5307 - val_accuracy: 0.8680\n",
            "Epoch 447/500\n",
            "115/115 [==============================] - 2s 20ms/step - loss: 0.1661 - accuracy: 0.9532 - val_loss: 0.5376 - val_accuracy: 0.8680\n",
            "Epoch 448/500\n",
            "115/115 [==============================] - 2s 20ms/step - loss: 0.1789 - accuracy: 0.9388 - val_loss: 0.5228 - val_accuracy: 0.8778\n",
            "Epoch 449/500\n",
            "115/115 [==============================] - 2s 20ms/step - loss: 0.1780 - accuracy: 0.9369 - val_loss: 0.5127 - val_accuracy: 0.8778\n",
            "Epoch 450/500\n",
            "115/115 [==============================] - 2s 20ms/step - loss: 0.1470 - accuracy: 0.9579 - val_loss: 0.5041 - val_accuracy: 0.8768\n",
            "Epoch 451/500\n",
            "115/115 [==============================] - 2s 20ms/step - loss: 0.1703 - accuracy: 0.9397 - val_loss: 0.5702 - val_accuracy: 0.8591\n",
            "Epoch 452/500\n",
            "115/115 [==============================] - 2s 21ms/step - loss: 0.1928 - accuracy: 0.9384 - val_loss: 0.5463 - val_accuracy: 0.8621\n",
            "Epoch 453/500\n",
            "115/115 [==============================] - 2s 20ms/step - loss: 0.1678 - accuracy: 0.9464 - val_loss: 0.5213 - val_accuracy: 0.8650\n",
            "Epoch 454/500\n",
            "115/115 [==============================] - 2s 20ms/step - loss: 0.1954 - accuracy: 0.9375 - val_loss: 0.4970 - val_accuracy: 0.8788\n",
            "Epoch 455/500\n",
            "115/115 [==============================] - 2s 20ms/step - loss: 0.1884 - accuracy: 0.9412 - val_loss: 0.5611 - val_accuracy: 0.8571\n",
            "Epoch 456/500\n",
            "115/115 [==============================] - 2s 20ms/step - loss: 0.1914 - accuracy: 0.9310 - val_loss: 0.5135 - val_accuracy: 0.8640\n",
            "Epoch 457/500\n",
            "115/115 [==============================] - 2s 20ms/step - loss: 0.1970 - accuracy: 0.9336 - val_loss: 0.5136 - val_accuracy: 0.8660\n",
            "Epoch 458/500\n",
            "115/115 [==============================] - 2s 22ms/step - loss: 0.1944 - accuracy: 0.9442 - val_loss: 0.5076 - val_accuracy: 0.8759\n",
            "Epoch 459/500\n",
            "115/115 [==============================] - 2s 20ms/step - loss: 0.1645 - accuracy: 0.9476 - val_loss: 0.5923 - val_accuracy: 0.8631\n",
            "Epoch 460/500\n",
            "115/115 [==============================] - 2s 20ms/step - loss: 0.1968 - accuracy: 0.9272 - val_loss: 0.5269 - val_accuracy: 0.8739\n",
            "Epoch 461/500\n",
            "115/115 [==============================] - 2s 20ms/step - loss: 0.1860 - accuracy: 0.9392 - val_loss: 0.5103 - val_accuracy: 0.8739\n",
            "Epoch 462/500\n",
            "115/115 [==============================] - 2s 20ms/step - loss: 0.1795 - accuracy: 0.9347 - val_loss: 0.5287 - val_accuracy: 0.8729\n",
            "Epoch 463/500\n",
            "115/115 [==============================] - 2s 20ms/step - loss: 0.1663 - accuracy: 0.9447 - val_loss: 0.5185 - val_accuracy: 0.8670\n",
            "Epoch 464/500\n",
            "115/115 [==============================] - 2s 20ms/step - loss: 0.2013 - accuracy: 0.9356 - val_loss: 0.5181 - val_accuracy: 0.8778\n",
            "Epoch 465/500\n",
            "115/115 [==============================] - 2s 20ms/step - loss: 0.1760 - accuracy: 0.9446 - val_loss: 0.5237 - val_accuracy: 0.8660\n",
            "Epoch 466/500\n",
            "115/115 [==============================] - 2s 20ms/step - loss: 0.1837 - accuracy: 0.9356 - val_loss: 0.4999 - val_accuracy: 0.8680\n",
            "Epoch 467/500\n",
            "115/115 [==============================] - 2s 20ms/step - loss: 0.1438 - accuracy: 0.9556 - val_loss: 0.5144 - val_accuracy: 0.8700\n",
            "Epoch 468/500\n",
            "115/115 [==============================] - 2s 20ms/step - loss: 0.1655 - accuracy: 0.9440 - val_loss: 0.5208 - val_accuracy: 0.8719\n",
            "Epoch 469/500\n",
            "115/115 [==============================] - 2s 20ms/step - loss: 0.1659 - accuracy: 0.9451 - val_loss: 0.5199 - val_accuracy: 0.8670\n",
            "Epoch 470/500\n",
            "115/115 [==============================] - 2s 21ms/step - loss: 0.1778 - accuracy: 0.9414 - val_loss: 0.5105 - val_accuracy: 0.8729\n",
            "Epoch 471/500\n",
            "115/115 [==============================] - 2s 20ms/step - loss: 0.1776 - accuracy: 0.9406 - val_loss: 0.5341 - val_accuracy: 0.8719\n",
            "Epoch 472/500\n",
            "115/115 [==============================] - 2s 20ms/step - loss: 0.1503 - accuracy: 0.9480 - val_loss: 0.5014 - val_accuracy: 0.8749\n",
            "Epoch 473/500\n",
            "115/115 [==============================] - 2s 20ms/step - loss: 0.1541 - accuracy: 0.9565 - val_loss: 0.5045 - val_accuracy: 0.8808\n",
            "Epoch 474/500\n",
            "115/115 [==============================] - 2s 20ms/step - loss: 0.1536 - accuracy: 0.9547 - val_loss: 0.5302 - val_accuracy: 0.8680\n",
            "Epoch 475/500\n",
            "115/115 [==============================] - 2s 20ms/step - loss: 0.1499 - accuracy: 0.9517 - val_loss: 0.5393 - val_accuracy: 0.8690\n",
            "Epoch 476/500\n",
            "115/115 [==============================] - 2s 20ms/step - loss: 0.1745 - accuracy: 0.9323 - val_loss: 0.5236 - val_accuracy: 0.8621\n",
            "Epoch 477/500\n",
            "115/115 [==============================] - 2s 20ms/step - loss: 0.1789 - accuracy: 0.9467 - val_loss: 0.5067 - val_accuracy: 0.8700\n",
            "Epoch 478/500\n",
            "115/115 [==============================] - 2s 20ms/step - loss: 0.1512 - accuracy: 0.9501 - val_loss: 0.5082 - val_accuracy: 0.8690\n",
            "Epoch 479/500\n",
            "115/115 [==============================] - 2s 20ms/step - loss: 0.1359 - accuracy: 0.9537 - val_loss: 0.5442 - val_accuracy: 0.8719\n",
            "Epoch 480/500\n",
            "115/115 [==============================] - 2s 20ms/step - loss: 0.1732 - accuracy: 0.9446 - val_loss: 0.5172 - val_accuracy: 0.8739\n",
            "Epoch 481/500\n",
            "115/115 [==============================] - 2s 22ms/step - loss: 0.1725 - accuracy: 0.9459 - val_loss: 0.5091 - val_accuracy: 0.8739\n",
            "Epoch 482/500\n",
            "115/115 [==============================] - 2s 20ms/step - loss: 0.1571 - accuracy: 0.9489 - val_loss: 0.5341 - val_accuracy: 0.8700\n",
            "Epoch 483/500\n",
            "115/115 [==============================] - 2s 20ms/step - loss: 0.1507 - accuracy: 0.9520 - val_loss: 0.5127 - val_accuracy: 0.8690\n",
            "Epoch 484/500\n",
            "115/115 [==============================] - 2s 20ms/step - loss: 0.1210 - accuracy: 0.9701 - val_loss: 0.5347 - val_accuracy: 0.8690\n",
            "Epoch 485/500\n",
            "115/115 [==============================] - 2s 20ms/step - loss: 0.1546 - accuracy: 0.9522 - val_loss: 0.5157 - val_accuracy: 0.8759\n",
            "Epoch 486/500\n",
            "115/115 [==============================] - 2s 20ms/step - loss: 0.1494 - accuracy: 0.9489 - val_loss: 0.5054 - val_accuracy: 0.8778\n",
            "Epoch 487/500\n",
            "115/115 [==============================] - 2s 20ms/step - loss: 0.1282 - accuracy: 0.9650 - val_loss: 0.5181 - val_accuracy: 0.8700\n",
            "Epoch 488/500\n",
            "115/115 [==============================] - 2s 20ms/step - loss: 0.1383 - accuracy: 0.9527 - val_loss: 0.5275 - val_accuracy: 0.8709\n",
            "Epoch 489/500\n",
            "115/115 [==============================] - 2s 20ms/step - loss: 0.1633 - accuracy: 0.9537 - val_loss: 0.5286 - val_accuracy: 0.8700\n",
            "Epoch 490/500\n",
            "115/115 [==============================] - 2s 20ms/step - loss: 0.1417 - accuracy: 0.9553 - val_loss: 0.5142 - val_accuracy: 0.8709\n",
            "Epoch 491/500\n",
            "115/115 [==============================] - 2s 20ms/step - loss: 0.1414 - accuracy: 0.9485 - val_loss: 0.5189 - val_accuracy: 0.8739\n",
            "Epoch 492/500\n",
            "115/115 [==============================] - 2s 21ms/step - loss: 0.1529 - accuracy: 0.9531 - val_loss: 0.5121 - val_accuracy: 0.8700\n",
            "Epoch 493/500\n",
            "115/115 [==============================] - 2s 20ms/step - loss: 0.1340 - accuracy: 0.9568 - val_loss: 0.5368 - val_accuracy: 0.8749\n",
            "Epoch 494/500\n",
            "115/115 [==============================] - 2s 20ms/step - loss: 0.1512 - accuracy: 0.9535 - val_loss: 0.5309 - val_accuracy: 0.8660\n",
            "Epoch 495/500\n",
            "115/115 [==============================] - 2s 20ms/step - loss: 0.1500 - accuracy: 0.9497 - val_loss: 0.4999 - val_accuracy: 0.8729\n",
            "Epoch 496/500\n",
            "115/115 [==============================] - 2s 20ms/step - loss: 0.1554 - accuracy: 0.9557 - val_loss: 0.5361 - val_accuracy: 0.8788\n",
            "Epoch 497/500\n",
            "115/115 [==============================] - 2s 20ms/step - loss: 0.1393 - accuracy: 0.9513 - val_loss: 0.5048 - val_accuracy: 0.8818\n",
            "Epoch 498/500\n",
            "115/115 [==============================] - 2s 20ms/step - loss: 0.1348 - accuracy: 0.9539 - val_loss: 0.5371 - val_accuracy: 0.8719\n",
            "Epoch 499/500\n",
            "115/115 [==============================] - 3s 22ms/step - loss: 0.1722 - accuracy: 0.9373 - val_loss: 0.5199 - val_accuracy: 0.8650\n",
            "Epoch 500/500\n",
            "115/115 [==============================] - 2s 20ms/step - loss: 0.1150 - accuracy: 0.9703 - val_loss: 0.5250 - val_accuracy: 0.8759\n"
          ],
          "name": "stdout"
        }
      ]
    },
    {
      "cell_type": "code",
      "metadata": {
        "colab": {
          "base_uri": "https://localhost:8080/",
          "height": 295
        },
        "id": "bjEIlD2o_LnK",
        "outputId": "01e87fad-adf9-40c9-ad41-7ef9087e35e9"
      },
      "source": [
        "plt.plot(cnnhistory.history['loss'])\n",
        "plt.plot(cnnhistory.history['val_loss'])\n",
        "plt.title('model loss')\n",
        "plt.ylabel('loss')\n",
        "plt.xlabel('epoch')\n",
        "plt.legend(['train', 'test'], loc='upper left')\n",
        "plt.show()"
      ],
      "execution_count": null,
      "outputs": [
        {
          "output_type": "display_data",
          "data": {
            "image/png": "[encoded data removed]",
            "text/plain": [
              "<Figure size 432x288 with 1 Axes>"
            ]
          },
          "metadata": {
            "tags": [],
            "needs_background": "light"
          }
        }
      ]
    },
    {
      "cell_type": "code",
      "metadata": {
        "colab": {
          "base_uri": "https://localhost:8080/",
          "height": 295
        },
        "id": "6AHeIkWr_iJ2",
        "outputId": "e4b7499d-2d4c-43dd-d255-0ee16167d592"
      },
      "source": [
        "plt.plot(cnnhistory.history['accuracy'])\n",
        "plt.plot(cnnhistory.history['val_accuracy'])\n",
        "plt.title('model accuracy')\n",
        "plt.ylabel('accuracy')\n",
        "plt.xlabel('epoch')\n",
        "plt.legend(['train', 'test'], loc='upper left')\n",
        "plt.show()"
      ],
      "execution_count": null,
      "outputs": [
        {
          "output_type": "display_data",
          "data": {
            "image/png": "[encoded data removed]",
            "text/plain": [
              "<Figure size 432x288 with 1 Axes>"
            ]
          },
          "metadata": {
            "tags": [],
            "needs_background": "light"
          }
        }
      ]
    },
    {
      "cell_type": "code",
      "metadata": {
        "colab": {
          "base_uri": "https://localhost:8080/"
        },
        "id": "Ws_3HxfT_kda",
        "outputId": "b0247ab0-a27e-41ca-90d8-6393cae3bad9"
      },
      "source": [
        "predictions = model.predict_classes(x_testcnn)"
      ],
      "execution_count": null,
      "outputs": [
        {
          "output_type": "stream",
          "text": [
            "/usr/local/lib/python3.7/dist-packages/keras/engine/sequential.py:450: UserWarning: `model.predict_classes()` is deprecated and will be removed after 2021-01-01. Please use instead:* `np.argmax(model.predict(x), axis=-1)`,   if your model does multi-class classification   (e.g. if it uses a `softmax` last-layer activation).* `(model.predict(x) > 0.5).astype(\"int32\")`,   if your model does binary classification   (e.g. if it uses a `sigmoid` last-layer activation).\n",
            "  warnings.warn('`model.predict_classes()` is deprecated and '\n"
          ],
          "name": "stderr"
        }
      ]
    },
    {
      "cell_type": "code",
      "metadata": {
        "colab": {
          "base_uri": "https://localhost:8080/"
        },
        "id": "_NNBZ_r9_soJ",
        "outputId": "d730d00b-cdad-4a5e-a5eb-cc933d01c02d"
      },
      "source": [
        "predictions"
      ],
      "execution_count": null,
      "outputs": [
        {
          "output_type": "execute_result",
          "data": {
            "text/plain": [
              "array([7, 6, 2, ..., 7, 5, 7])"
            ]
          },
          "metadata": {
            "tags": []
          },
          "execution_count": 15
        }
      ]
    },
    {
      "cell_type": "code",
      "metadata": {
        "colab": {
          "base_uri": "https://localhost:8080/"
        },
        "id": "qgdBhxls_xMa",
        "outputId": "c79036be-1a78-4f3f-a5a0-42aee7a4028d"
      },
      "source": [
        "y_test"
      ],
      "execution_count": null,
      "outputs": [
        {
          "output_type": "execute_result",
          "data": {
            "text/plain": [
              "array([7, 6, 2, ..., 7, 5, 7])"
            ]
          },
          "metadata": {
            "tags": []
          },
          "execution_count": 16
        }
      ]
    },
    {
      "cell_type": "code",
      "metadata": {
        "id": "cSXDHMd__3WN"
      },
      "source": [
        "new_Ytest = y_test.astype(int)"
      ],
      "execution_count": null,
      "outputs": []
    },
    {
      "cell_type": "code",
      "metadata": {
        "colab": {
          "base_uri": "https://localhost:8080/"
        },
        "id": "56hJlD67__Y8",
        "outputId": "fd6cc3ff-9f5a-46dd-ccf2-73dea24f1bbd"
      },
      "source": [
        "from sklearn.metrics import classification_report\n",
        "report = classification_report(new_Ytest, predictions)\n",
        "print(report)"
      ],
      "execution_count": null,
      "outputs": [
        {
          "output_type": "stream",
          "text": [
            "              precision    recall  f1-score   support\n",
            "\n",
            "           0       0.80      0.84      0.82        80\n",
            "           1       0.85      0.95      0.90       149\n",
            "           2       0.87      0.86      0.87       143\n",
            "           3       0.90      0.77      0.83       126\n",
            "           4       0.91      0.89      0.90       134\n",
            "           5       0.87      0.87      0.87       134\n",
            "           6       0.85      0.93      0.89       119\n",
            "           7       0.97      0.87      0.91       130\n",
            "\n",
            "    accuracy                           0.88      1015\n",
            "   macro avg       0.88      0.87      0.87      1015\n",
            "weighted avg       0.88      0.88      0.88      1015\n",
            "\n"
          ],
          "name": "stdout"
        }
      ]
    },
    {
      "cell_type": "code",
      "metadata": {
        "colab": {
          "base_uri": "https://localhost:8080/"
        },
        "id": "qggE4eX4AKaL",
        "outputId": "ce997ae7-913f-4929-8627-33dff75472f1"
      },
      "source": [
        "from sklearn.metrics import confusion_matrix\n",
        "matrix = confusion_matrix(new_Ytest, predictions)\n",
        "print (matrix)\n",
        "\n",
        "# 0 = neutral, 1 = calm, 2 = happy, 3 = sad, 4 = angry, 5 = fearful, 6 = disgust, 7 = surprised"
      ],
      "execution_count": null,
      "outputs": [
        {
          "output_type": "stream",
          "text": [
            "[[ 67   8   0   3   0   0   2   0]\n",
            " [  7 142   0   0   0   0   0   0]\n",
            " [  2   2 123   0   4   8   2   2]\n",
            " [  7   9   5  97   0   4   2   2]\n",
            " [  0   3   4   0 119   0   8   0]\n",
            " [  0   0   5   6   2 117   4   0]\n",
            " [  0   2   0   0   2   4 111   0]\n",
            " [  1   2   4   2   4   2   2 113]]\n"
          ],
          "name": "stdout"
        }
      ]
    },
    {
      "cell_type": "code",
      "metadata": {
        "colab": {
          "base_uri": "https://localhost:8080/"
        },
        "id": "jbp9sz0LAR-v",
        "outputId": "33b4aead-7577-4b7a-e8a4-84e54838ec20"
      },
      "source": [
        "\n",
        "model.save('testing10_model.h5')\n",
        "print(\"MODEL SAVED\")"
      ],
      "execution_count": null,
      "outputs": [
        {
          "output_type": "stream",
          "text": [
            "MODEL SAVED\n"
          ],
          "name": "stdout"
        }
      ]
    },
    {
      "cell_type": "code",
      "metadata": {
        "id": "2GFAy_21yo9V"
      },
      "source": [
        "#import pickle\n",
        "#pickle.dump(model, open(\"model.model\", \"wb\"))"
      ],
      "execution_count": null,
      "outputs": []
    },
    {
      "cell_type": "code",
      "metadata": {
        "colab": {
          "base_uri": "https://localhost:8080/"
        },
        "id": "ZXDH9IanAYgZ",
        "outputId": "efe278cc-5c19-4534-98d5-4abf908d5f96"
      },
      "source": [
        "loss, acc = model.evaluate(x_testcnn, y_test)\n",
        "print(\" model, accuracy: {:5.2f}%\".format(100*acc))"
      ],
      "execution_count": null,
      "outputs": [
        {
          "output_type": "stream",
          "text": [
            "32/32 [==============================] - 0s 3ms/step - loss: 0.5250 - accuracy: 0.8759\n",
            " model, accuracy: 87.59%\n"
          ],
          "name": "stdout"
        }
      ]
    }
  ]
}